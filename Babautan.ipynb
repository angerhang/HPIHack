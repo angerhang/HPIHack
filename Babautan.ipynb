{
 "cells": [
  {
   "cell_type": "code",
   "execution_count": null,
   "metadata": {
    "collapsed": false
   },
   "outputs": [],
   "source": []
  },
  {
   "cell_type": "code",
   "execution_count": 44,
   "metadata": {
    "collapsed": false
   },
   "outputs": [],
   "source": [
    "import urllib as url\n",
    "import json\n",
    "import numpy as np\n",
    "import unicodedata as uni\n",
    "import csv\n",
    "\n",
    "def underscorer(stringy):\n",
    "    \n",
    "    return stringy.replace(\" \",\"_\")\n",
    "\n",
    "\n",
    "# unpacks some shit and divides it in two lists, one for the view and one for the time\n",
    "def unpack_that_shit(jason_file):\n",
    "    \n",
    "    prov = url.urlopen(jason_file)\n",
    "    data = json.loads(prov.read())\n",
    "    baba = list()\n",
    "    \n",
    "    for i in range(len(data['items'])):\n",
    "        baba.append(data['items'][i])\n",
    "        #baba2['Timestamp'] = data['items'][i]['timestamp']\n",
    "        #baba.append(baba2)\n",
    "        \n",
    "    return baba\n",
    "    "
   ]
  },
  {
   "cell_type": "code",
   "execution_count": 6,
   "metadata": {
    "collapsed": false
   },
   "outputs": [
    {
     "name": "stdout",
     "output_type": "stream",
     "text": [
      "Courrendlin\n",
      "{u'access': u'all-access', u'views': 2, u'timestamp': u'2015100100', u'agent': u'user', u'project': u'en.wikipedia', u'granularity': u'daily', u'article': u'Courrendlin'}\n",
      "{u'access': u'all-access', u'views': 0, u'timestamp': u'2015100200', u'agent': u'user', u'project': u'en.wikipedia', u'granularity': u'daily', u'article': u'Courrendlin'}\n",
      "{u'access': u'all-access', u'views': 0, u'timestamp': u'2015100300', u'agent': u'user', u'project': u'en.wikipedia', u'granularity': u'daily', u'article': u'Courrendlin'}\n",
      "{u'access': u'all-access', u'views': 5, u'timestamp': u'2015100400', u'agent': u'user', u'project': u'en.wikipedia', u'granularity': u'daily', u'article': u'Courrendlin'}\n",
      "{u'access': u'all-access', u'views': 3, u'timestamp': u'2015100500', u'agent': u'user', u'project': u'en.wikipedia', u'granularity': u'daily', u'article': u'Courrendlin'}\n",
      "{u'access': u'all-access', u'views': 0, u'timestamp': u'2015100600', u'agent': u'user', u'project': u'en.wikipedia', u'granularity': u'daily', u'article': u'Courrendlin'}\n",
      "{u'access': u'all-access', u'views': 2, u'timestamp': u'2015100700', u'agent': u'user', u'project': u'en.wikipedia', u'granularity': u'daily', u'article': u'Courrendlin'}\n",
      "{u'access': u'all-access', u'views': 0, u'timestamp': u'2015100800', u'agent': u'user', u'project': u'en.wikipedia', u'granularity': u'daily', u'article': u'Courrendlin'}\n",
      "{u'access': u'all-access', u'views': 0, u'timestamp': u'2015100900', u'agent': u'user', u'project': u'en.wikipedia', u'granularity': u'daily', u'article': u'Courrendlin'}\n",
      "{u'access': u'all-access', u'views': 2, u'timestamp': u'2015101000', u'agent': u'user', u'project': u'en.wikipedia', u'granularity': u'daily', u'article': u'Courrendlin'}\n",
      "{u'access': u'all-access', u'views': 2, u'timestamp': u'2015101100', u'agent': u'user', u'project': u'en.wikipedia', u'granularity': u'daily', u'article': u'Courrendlin'}\n",
      "{u'access': u'all-access', u'views': 4, u'timestamp': u'2015101200', u'agent': u'user', u'project': u'en.wikipedia', u'granularity': u'daily', u'article': u'Courrendlin'}\n",
      "{u'access': u'all-access', u'views': 2, u'timestamp': u'2015101300', u'agent': u'user', u'project': u'en.wikipedia', u'granularity': u'daily', u'article': u'Courrendlin'}\n",
      "{u'access': u'all-access', u'views': 6, u'timestamp': u'2015101400', u'agent': u'user', u'project': u'en.wikipedia', u'granularity': u'daily', u'article': u'Courrendlin'}\n",
      "{u'access': u'all-access', u'views': 1, u'timestamp': u'2015101500', u'agent': u'user', u'project': u'en.wikipedia', u'granularity': u'daily', u'article': u'Courrendlin'}\n",
      "{u'access': u'all-access', u'views': 1, u'timestamp': u'2015101600', u'agent': u'user', u'project': u'en.wikipedia', u'granularity': u'daily', u'article': u'Courrendlin'}\n",
      "{u'access': u'all-access', u'views': 1, u'timestamp': u'2015101700', u'agent': u'user', u'project': u'en.wikipedia', u'granularity': u'daily', u'article': u'Courrendlin'}\n",
      "{u'access': u'all-access', u'views': 1, u'timestamp': u'2015101800', u'agent': u'user', u'project': u'en.wikipedia', u'granularity': u'daily', u'article': u'Courrendlin'}\n",
      "{u'access': u'all-access', u'views': 1, u'timestamp': u'2015101900', u'agent': u'user', u'project': u'en.wikipedia', u'granularity': u'daily', u'article': u'Courrendlin'}\n",
      "{u'access': u'all-access', u'views': 2, u'timestamp': u'2015102000', u'agent': u'user', u'project': u'en.wikipedia', u'granularity': u'daily', u'article': u'Courrendlin'}\n",
      "{u'access': u'all-access', u'views': 2, u'timestamp': u'2015102100', u'agent': u'user', u'project': u'en.wikipedia', u'granularity': u'daily', u'article': u'Courrendlin'}\n",
      "{u'access': u'all-access', u'views': 1, u'timestamp': u'2015102200', u'agent': u'user', u'project': u'en.wikipedia', u'granularity': u'daily', u'article': u'Courrendlin'}\n",
      "{u'access': u'all-access', u'views': 0, u'timestamp': u'2015102300', u'agent': u'user', u'project': u'en.wikipedia', u'granularity': u'daily', u'article': u'Courrendlin'}\n",
      "{u'access': u'all-access', u'views': 0, u'timestamp': u'2015102400', u'agent': u'user', u'project': u'en.wikipedia', u'granularity': u'daily', u'article': u'Courrendlin'}\n",
      "{u'access': u'all-access', u'views': 0, u'timestamp': u'2015102500', u'agent': u'user', u'project': u'en.wikipedia', u'granularity': u'daily', u'article': u'Courrendlin'}\n",
      "{u'access': u'all-access', u'views': 3, u'timestamp': u'2015102600', u'agent': u'user', u'project': u'en.wikipedia', u'granularity': u'daily', u'article': u'Courrendlin'}\n",
      "{u'access': u'all-access', u'views': 1, u'timestamp': u'2015102700', u'agent': u'user', u'project': u'en.wikipedia', u'granularity': u'daily', u'article': u'Courrendlin'}\n",
      "{u'access': u'all-access', u'views': 0, u'timestamp': u'2015102800', u'agent': u'user', u'project': u'en.wikipedia', u'granularity': u'daily', u'article': u'Courrendlin'}\n",
      "{u'access': u'all-access', u'views': 2, u'timestamp': u'2015102900', u'agent': u'user', u'project': u'en.wikipedia', u'granularity': u'daily', u'article': u'Courrendlin'}\n",
      "{u'access': u'all-access', u'views': 2, u'timestamp': u'2015103000', u'agent': u'user', u'project': u'en.wikipedia', u'granularity': u'daily', u'article': u'Courrendlin'}\n",
      "{u'access': u'all-access', u'views': 1, u'timestamp': u'2015103100', u'agent': u'user', u'project': u'en.wikipedia', u'granularity': u'daily', u'article': u'Courrendlin'}\n",
      "{u'access': u'all-access', u'views': 4, u'timestamp': u'2015110100', u'agent': u'user', u'project': u'en.wikipedia', u'granularity': u'daily', u'article': u'Courrendlin'}\n",
      "{u'access': u'all-access', u'views': 1, u'timestamp': u'2015110200', u'agent': u'user', u'project': u'en.wikipedia', u'granularity': u'daily', u'article': u'Courrendlin'}\n",
      "{u'access': u'all-access', u'views': 1, u'timestamp': u'2015110300', u'agent': u'user', u'project': u'en.wikipedia', u'granularity': u'daily', u'article': u'Courrendlin'}\n",
      "{u'access': u'all-access', u'views': 0, u'timestamp': u'2015110400', u'agent': u'user', u'project': u'en.wikipedia', u'granularity': u'daily', u'article': u'Courrendlin'}\n",
      "{u'access': u'all-access', u'views': 1, u'timestamp': u'2015110500', u'agent': u'user', u'project': u'en.wikipedia', u'granularity': u'daily', u'article': u'Courrendlin'}\n",
      "{u'access': u'all-access', u'views': 1, u'timestamp': u'2015110600', u'agent': u'user', u'project': u'en.wikipedia', u'granularity': u'daily', u'article': u'Courrendlin'}\n",
      "{u'access': u'all-access', u'views': 3, u'timestamp': u'2015110700', u'agent': u'user', u'project': u'en.wikipedia', u'granularity': u'daily', u'article': u'Courrendlin'}\n",
      "{u'access': u'all-access', u'views': 0, u'timestamp': u'2015110800', u'agent': u'user', u'project': u'en.wikipedia', u'granularity': u'daily', u'article': u'Courrendlin'}\n",
      "{u'access': u'all-access', u'views': 2, u'timestamp': u'2015110900', u'agent': u'user', u'project': u'en.wikipedia', u'granularity': u'daily', u'article': u'Courrendlin'}\n",
      "{u'access': u'all-access', u'views': 0, u'timestamp': u'2015111000', u'agent': u'user', u'project': u'en.wikipedia', u'granularity': u'daily', u'article': u'Courrendlin'}\n",
      "{u'access': u'all-access', u'views': 0, u'timestamp': u'2015111100', u'agent': u'user', u'project': u'en.wikipedia', u'granularity': u'daily', u'article': u'Courrendlin'}\n",
      "{u'access': u'all-access', u'views': 0, u'timestamp': u'2015111200', u'agent': u'user', u'project': u'en.wikipedia', u'granularity': u'daily', u'article': u'Courrendlin'}\n",
      "{u'access': u'all-access', u'views': 0, u'timestamp': u'2015111300', u'agent': u'user', u'project': u'en.wikipedia', u'granularity': u'daily', u'article': u'Courrendlin'}\n",
      "{u'access': u'all-access', u'views': 2, u'timestamp': u'2015111400', u'agent': u'user', u'project': u'en.wikipedia', u'granularity': u'daily', u'article': u'Courrendlin'}\n",
      "{u'access': u'all-access', u'views': 2, u'timestamp': u'2015111500', u'agent': u'user', u'project': u'en.wikipedia', u'granularity': u'daily', u'article': u'Courrendlin'}\n",
      "{u'access': u'all-access', u'views': 1, u'timestamp': u'2015111600', u'agent': u'user', u'project': u'en.wikipedia', u'granularity': u'daily', u'article': u'Courrendlin'}\n",
      "{u'access': u'all-access', u'views': 0, u'timestamp': u'2015111700', u'agent': u'user', u'project': u'en.wikipedia', u'granularity': u'daily', u'article': u'Courrendlin'}\n",
      "{u'access': u'all-access', u'views': 1, u'timestamp': u'2015111800', u'agent': u'user', u'project': u'en.wikipedia', u'granularity': u'daily', u'article': u'Courrendlin'}\n",
      "{u'access': u'all-access', u'views': 1, u'timestamp': u'2015111900', u'agent': u'user', u'project': u'en.wikipedia', u'granularity': u'daily', u'article': u'Courrendlin'}\n",
      "{u'access': u'all-access', u'views': 2, u'timestamp': u'2015112000', u'agent': u'user', u'project': u'en.wikipedia', u'granularity': u'daily', u'article': u'Courrendlin'}\n",
      "{u'access': u'all-access', u'views': 0, u'timestamp': u'2015112200', u'agent': u'user', u'project': u'en.wikipedia', u'granularity': u'daily', u'article': u'Courrendlin'}\n",
      "{u'access': u'all-access', u'views': 2, u'timestamp': u'2015112300', u'agent': u'user', u'project': u'en.wikipedia', u'granularity': u'daily', u'article': u'Courrendlin'}\n",
      "{u'access': u'all-access', u'views': 3, u'timestamp': u'2015112400', u'agent': u'user', u'project': u'en.wikipedia', u'granularity': u'daily', u'article': u'Courrendlin'}\n",
      "{u'access': u'all-access', u'views': 0, u'timestamp': u'2015112500', u'agent': u'user', u'project': u'en.wikipedia', u'granularity': u'daily', u'article': u'Courrendlin'}\n",
      "{u'access': u'all-access', u'views': 0, u'timestamp': u'2015112600', u'agent': u'user', u'project': u'en.wikipedia', u'granularity': u'daily', u'article': u'Courrendlin'}\n",
      "{u'access': u'all-access', u'views': 0, u'timestamp': u'2015112800', u'agent': u'user', u'project': u'en.wikipedia', u'granularity': u'daily', u'article': u'Courrendlin'}\n",
      "{u'access': u'all-access', u'views': 0, u'timestamp': u'2015112900', u'agent': u'user', u'project': u'en.wikipedia', u'granularity': u'daily', u'article': u'Courrendlin'}\n",
      "{u'access': u'all-access', u'views': 3, u'timestamp': u'2015113000', u'agent': u'user', u'project': u'en.wikipedia', u'granularity': u'daily', u'article': u'Courrendlin'}\n",
      "{u'access': u'all-access', u'views': 1, u'timestamp': u'2015120100', u'agent': u'user', u'project': u'en.wikipedia', u'granularity': u'daily', u'article': u'Courrendlin'}\n",
      "{u'access': u'all-access', u'views': 1, u'timestamp': u'2015120200', u'agent': u'user', u'project': u'en.wikipedia', u'granularity': u'daily', u'article': u'Courrendlin'}\n",
      "{u'access': u'all-access', u'views': 1, u'timestamp': u'2015120300', u'agent': u'user', u'project': u'en.wikipedia', u'granularity': u'daily', u'article': u'Courrendlin'}\n",
      "{u'access': u'all-access', u'views': 1, u'timestamp': u'2015120400', u'agent': u'user', u'project': u'en.wikipedia', u'granularity': u'daily', u'article': u'Courrendlin'}\n",
      "{u'access': u'all-access', u'views': 1, u'timestamp': u'2015120500', u'agent': u'user', u'project': u'en.wikipedia', u'granularity': u'daily', u'article': u'Courrendlin'}\n",
      "{u'access': u'all-access', u'views': 1, u'timestamp': u'2015120700', u'agent': u'user', u'project': u'en.wikipedia', u'granularity': u'daily', u'article': u'Courrendlin'}\n",
      "{u'access': u'all-access', u'views': 1, u'timestamp': u'2015120900', u'agent': u'user', u'project': u'en.wikipedia', u'granularity': u'daily', u'article': u'Courrendlin'}\n",
      "{u'access': u'all-access', u'views': 0, u'timestamp': u'2015121000', u'agent': u'user', u'project': u'en.wikipedia', u'granularity': u'daily', u'article': u'Courrendlin'}\n",
      "{u'access': u'all-access', u'views': 5, u'timestamp': u'2015121100', u'agent': u'user', u'project': u'en.wikipedia', u'granularity': u'daily', u'article': u'Courrendlin'}\n",
      "{u'access': u'all-access', u'views': 3, u'timestamp': u'2015121200', u'agent': u'user', u'project': u'en.wikipedia', u'granularity': u'daily', u'article': u'Courrendlin'}\n",
      "{u'access': u'all-access', u'views': 2, u'timestamp': u'2015121300', u'agent': u'user', u'project': u'en.wikipedia', u'granularity': u'daily', u'article': u'Courrendlin'}\n",
      "{u'access': u'all-access', u'views': 2, u'timestamp': u'2015121400', u'agent': u'user', u'project': u'en.wikipedia', u'granularity': u'daily', u'article': u'Courrendlin'}\n",
      "{u'access': u'all-access', u'views': 2, u'timestamp': u'2015121500', u'agent': u'user', u'project': u'en.wikipedia', u'granularity': u'daily', u'article': u'Courrendlin'}\n",
      "{u'access': u'all-access', u'views': 1, u'timestamp': u'2015121600', u'agent': u'user', u'project': u'en.wikipedia', u'granularity': u'daily', u'article': u'Courrendlin'}\n",
      "{u'access': u'all-access', u'views': 5, u'timestamp': u'2015121700', u'agent': u'user', u'project': u'en.wikipedia', u'granularity': u'daily', u'article': u'Courrendlin'}\n",
      "{u'access': u'all-access', u'views': 2, u'timestamp': u'2015121800', u'agent': u'user', u'project': u'en.wikipedia', u'granularity': u'daily', u'article': u'Courrendlin'}\n",
      "{u'access': u'all-access', u'views': 1, u'timestamp': u'2015121900', u'agent': u'user', u'project': u'en.wikipedia', u'granularity': u'daily', u'article': u'Courrendlin'}\n",
      "{u'access': u'all-access', u'views': 0, u'timestamp': u'2015122000', u'agent': u'user', u'project': u'en.wikipedia', u'granularity': u'daily', u'article': u'Courrendlin'}\n",
      "{u'access': u'all-access', u'views': 1, u'timestamp': u'2015122100', u'agent': u'user', u'project': u'en.wikipedia', u'granularity': u'daily', u'article': u'Courrendlin'}\n",
      "{u'access': u'all-access', u'views': 1, u'timestamp': u'2015122200', u'agent': u'user', u'project': u'en.wikipedia', u'granularity': u'daily', u'article': u'Courrendlin'}\n",
      "{u'access': u'all-access', u'views': 1, u'timestamp': u'2015122300', u'agent': u'user', u'project': u'en.wikipedia', u'granularity': u'daily', u'article': u'Courrendlin'}\n",
      "{u'access': u'all-access', u'views': 3, u'timestamp': u'2015122400', u'agent': u'user', u'project': u'en.wikipedia', u'granularity': u'daily', u'article': u'Courrendlin'}\n",
      "{u'access': u'all-access', u'views': 2, u'timestamp': u'2015122500', u'agent': u'user', u'project': u'en.wikipedia', u'granularity': u'daily', u'article': u'Courrendlin'}\n",
      "{u'access': u'all-access', u'views': 1, u'timestamp': u'2015122600', u'agent': u'user', u'project': u'en.wikipedia', u'granularity': u'daily', u'article': u'Courrendlin'}\n",
      "{u'access': u'all-access', u'views': 1, u'timestamp': u'2015122700', u'agent': u'user', u'project': u'en.wikipedia', u'granularity': u'daily', u'article': u'Courrendlin'}\n",
      "{u'access': u'all-access', u'views': 2, u'timestamp': u'2015122800', u'agent': u'user', u'project': u'en.wikipedia', u'granularity': u'daily', u'article': u'Courrendlin'}\n",
      "{u'access': u'all-access', u'views': 0, u'timestamp': u'2015122900', u'agent': u'user', u'project': u'en.wikipedia', u'granularity': u'daily', u'article': u'Courrendlin'}\n",
      "{u'access': u'all-access', u'views': 1, u'timestamp': u'2015123000', u'agent': u'user', u'project': u'en.wikipedia', u'granularity': u'daily', u'article': u'Courrendlin'}\n",
      "{u'access': u'all-access', u'views': 0, u'timestamp': u'2015123100', u'agent': u'user', u'project': u'en.wikipedia', u'granularity': u'daily', u'article': u'Courrendlin'}\n",
      "{u'access': u'all-access', u'views': 1, u'timestamp': u'2016010100', u'agent': u'user', u'project': u'en.wikipedia', u'granularity': u'daily', u'article': u'Courrendlin'}\n",
      "{u'access': u'all-access', u'views': 1, u'timestamp': u'2016010300', u'agent': u'user', u'project': u'en.wikipedia', u'granularity': u'daily', u'article': u'Courrendlin'}\n",
      "{u'access': u'all-access', u'views': 1, u'timestamp': u'2016010400', u'agent': u'user', u'project': u'en.wikipedia', u'granularity': u'daily', u'article': u'Courrendlin'}\n",
      "{u'access': u'all-access', u'views': 2, u'timestamp': u'2016010500', u'agent': u'user', u'project': u'en.wikipedia', u'granularity': u'daily', u'article': u'Courrendlin'}\n",
      "{u'access': u'all-access', u'views': 0, u'timestamp': u'2016010600', u'agent': u'user', u'project': u'en.wikipedia', u'granularity': u'daily', u'article': u'Courrendlin'}\n",
      "{u'access': u'all-access', u'views': 3, u'timestamp': u'2016010700', u'agent': u'user', u'project': u'en.wikipedia', u'granularity': u'daily', u'article': u'Courrendlin'}\n",
      "{u'access': u'all-access', u'views': 1, u'timestamp': u'2016010900', u'agent': u'user', u'project': u'en.wikipedia', u'granularity': u'daily', u'article': u'Courrendlin'}\n",
      "{u'access': u'all-access', u'views': 0, u'timestamp': u'2016011000', u'agent': u'user', u'project': u'en.wikipedia', u'granularity': u'daily', u'article': u'Courrendlin'}\n",
      "{u'access': u'all-access', u'views': 2, u'timestamp': u'2016011100', u'agent': u'user', u'project': u'en.wikipedia', u'granularity': u'daily', u'article': u'Courrendlin'}\n",
      "{u'access': u'all-access', u'views': 0, u'timestamp': u'2016011200', u'agent': u'user', u'project': u'en.wikipedia', u'granularity': u'daily', u'article': u'Courrendlin'}\n",
      "{u'access': u'all-access', u'views': 1, u'timestamp': u'2016011300', u'agent': u'user', u'project': u'en.wikipedia', u'granularity': u'daily', u'article': u'Courrendlin'}\n",
      "{u'access': u'all-access', u'views': 0, u'timestamp': u'2016011400', u'agent': u'user', u'project': u'en.wikipedia', u'granularity': u'daily', u'article': u'Courrendlin'}\n",
      "{u'access': u'all-access', u'views': 2, u'timestamp': u'2016011500', u'agent': u'user', u'project': u'en.wikipedia', u'granularity': u'daily', u'article': u'Courrendlin'}\n",
      "{u'access': u'all-access', u'views': 1, u'timestamp': u'2016011600', u'agent': u'user', u'project': u'en.wikipedia', u'granularity': u'daily', u'article': u'Courrendlin'}\n",
      "{u'access': u'all-access', u'views': 2, u'timestamp': u'2016011700', u'agent': u'user', u'project': u'en.wikipedia', u'granularity': u'daily', u'article': u'Courrendlin'}\n",
      "{u'access': u'all-access', u'views': 2, u'timestamp': u'2016011800', u'agent': u'user', u'project': u'en.wikipedia', u'granularity': u'daily', u'article': u'Courrendlin'}\n",
      "{u'access': u'all-access', u'views': 1, u'timestamp': u'2016011900', u'agent': u'user', u'project': u'en.wikipedia', u'granularity': u'daily', u'article': u'Courrendlin'}\n",
      "{u'access': u'all-access', u'views': 1, u'timestamp': u'2016012000', u'agent': u'user', u'project': u'en.wikipedia', u'granularity': u'daily', u'article': u'Courrendlin'}\n",
      "{u'access': u'all-access', u'views': 0, u'timestamp': u'2016012100', u'agent': u'user', u'project': u'en.wikipedia', u'granularity': u'daily', u'article': u'Courrendlin'}\n",
      "{u'access': u'all-access', u'views': 2, u'timestamp': u'2016012200', u'agent': u'user', u'project': u'en.wikipedia', u'granularity': u'daily', u'article': u'Courrendlin'}\n",
      "{u'access': u'all-access', u'views': 0, u'timestamp': u'2016012300', u'agent': u'user', u'project': u'en.wikipedia', u'granularity': u'daily', u'article': u'Courrendlin'}\n",
      "{u'access': u'all-access', u'views': 0, u'timestamp': u'2016012400', u'agent': u'user', u'project': u'en.wikipedia', u'granularity': u'daily', u'article': u'Courrendlin'}\n",
      "{u'access': u'all-access', u'views': 5, u'timestamp': u'2016012500', u'agent': u'user', u'project': u'en.wikipedia', u'granularity': u'daily', u'article': u'Courrendlin'}\n",
      "{u'access': u'all-access', u'views': 1, u'timestamp': u'2016012600', u'agent': u'user', u'project': u'en.wikipedia', u'granularity': u'daily', u'article': u'Courrendlin'}\n",
      "{u'access': u'all-access', u'views': 1, u'timestamp': u'2016012800', u'agent': u'user', u'project': u'en.wikipedia', u'granularity': u'daily', u'article': u'Courrendlin'}\n",
      "{u'access': u'all-access', u'views': 3, u'timestamp': u'2016012900', u'agent': u'user', u'project': u'en.wikipedia', u'granularity': u'daily', u'article': u'Courrendlin'}\n",
      "{u'access': u'all-access', u'views': 2, u'timestamp': u'2016013000', u'agent': u'user', u'project': u'en.wikipedia', u'granularity': u'daily', u'article': u'Courrendlin'}\n",
      "{u'access': u'all-access', u'views': 2, u'timestamp': u'2016020100', u'agent': u'user', u'project': u'en.wikipedia', u'granularity': u'daily', u'article': u'Courrendlin'}\n",
      "{u'access': u'all-access', u'views': 1, u'timestamp': u'2016020200', u'agent': u'user', u'project': u'en.wikipedia', u'granularity': u'daily', u'article': u'Courrendlin'}\n",
      "{u'access': u'all-access', u'views': 14, u'timestamp': u'2016020300', u'agent': u'user', u'project': u'en.wikipedia', u'granularity': u'daily', u'article': u'Courrendlin'}\n",
      "{u'access': u'all-access', u'views': 2, u'timestamp': u'2016020400', u'agent': u'user', u'project': u'en.wikipedia', u'granularity': u'daily', u'article': u'Courrendlin'}\n",
      "{u'access': u'all-access', u'views': 0, u'timestamp': u'2016020500', u'agent': u'user', u'project': u'en.wikipedia', u'granularity': u'daily', u'article': u'Courrendlin'}\n",
      "{u'access': u'all-access', u'views': 3, u'timestamp': u'2016020600', u'agent': u'user', u'project': u'en.wikipedia', u'granularity': u'daily', u'article': u'Courrendlin'}\n",
      "{u'access': u'all-access', u'views': 0, u'timestamp': u'2016020700', u'agent': u'user', u'project': u'en.wikipedia', u'granularity': u'daily', u'article': u'Courrendlin'}\n",
      "{u'access': u'all-access', u'views': 2, u'timestamp': u'2016020800', u'agent': u'user', u'project': u'en.wikipedia', u'granularity': u'daily', u'article': u'Courrendlin'}\n",
      "{u'access': u'all-access', u'views': 3, u'timestamp': u'2016020900', u'agent': u'user', u'project': u'en.wikipedia', u'granularity': u'daily', u'article': u'Courrendlin'}\n",
      "{u'access': u'all-access', u'views': 3, u'timestamp': u'2016021000', u'agent': u'user', u'project': u'en.wikipedia', u'granularity': u'daily', u'article': u'Courrendlin'}\n",
      "{u'access': u'all-access', u'views': 0, u'timestamp': u'2016021100', u'agent': u'user', u'project': u'en.wikipedia', u'granularity': u'daily', u'article': u'Courrendlin'}\n",
      "{u'access': u'all-access', u'views': 0, u'timestamp': u'2016021200', u'agent': u'user', u'project': u'en.wikipedia', u'granularity': u'daily', u'article': u'Courrendlin'}\n",
      "{u'access': u'all-access', u'views': 1, u'timestamp': u'2016021300', u'agent': u'user', u'project': u'en.wikipedia', u'granularity': u'daily', u'article': u'Courrendlin'}\n",
      "{u'access': u'all-access', u'views': 0, u'timestamp': u'2016021400', u'agent': u'user', u'project': u'en.wikipedia', u'granularity': u'daily', u'article': u'Courrendlin'}\n",
      "{u'access': u'all-access', u'views': 1, u'timestamp': u'2016021500', u'agent': u'user', u'project': u'en.wikipedia', u'granularity': u'daily', u'article': u'Courrendlin'}\n",
      "{u'access': u'all-access', u'views': 9, u'timestamp': u'2016021600', u'agent': u'user', u'project': u'en.wikipedia', u'granularity': u'daily', u'article': u'Courrendlin'}\n",
      "{u'access': u'all-access', u'views': 0, u'timestamp': u'2016021800', u'agent': u'user', u'project': u'en.wikipedia', u'granularity': u'daily', u'article': u'Courrendlin'}\n",
      "{u'access': u'all-access', u'views': 0, u'timestamp': u'2016021900', u'agent': u'user', u'project': u'en.wikipedia', u'granularity': u'daily', u'article': u'Courrendlin'}\n",
      "{u'access': u'all-access', u'views': 3, u'timestamp': u'2016022000', u'agent': u'user', u'project': u'en.wikipedia', u'granularity': u'daily', u'article': u'Courrendlin'}\n",
      "{u'access': u'all-access', u'views': 1, u'timestamp': u'2016022100', u'agent': u'user', u'project': u'en.wikipedia', u'granularity': u'daily', u'article': u'Courrendlin'}\n",
      "{u'access': u'all-access', u'views': 2, u'timestamp': u'2016022200', u'agent': u'user', u'project': u'en.wikipedia', u'granularity': u'daily', u'article': u'Courrendlin'}\n",
      "{u'access': u'all-access', u'views': 0, u'timestamp': u'2016022300', u'agent': u'user', u'project': u'en.wikipedia', u'granularity': u'daily', u'article': u'Courrendlin'}\n",
      "{u'access': u'all-access', u'views': 3, u'timestamp': u'2016022400', u'agent': u'user', u'project': u'en.wikipedia', u'granularity': u'daily', u'article': u'Courrendlin'}\n",
      "{u'access': u'all-access', u'views': 1, u'timestamp': u'2016022500', u'agent': u'user', u'project': u'en.wikipedia', u'granularity': u'daily', u'article': u'Courrendlin'}\n",
      "{u'access': u'all-access', u'views': 0, u'timestamp': u'2016022600', u'agent': u'user', u'project': u'en.wikipedia', u'granularity': u'daily', u'article': u'Courrendlin'}\n",
      "{u'access': u'all-access', u'views': 5, u'timestamp': u'2016022700', u'agent': u'user', u'project': u'en.wikipedia', u'granularity': u'daily', u'article': u'Courrendlin'}\n",
      "{u'access': u'all-access', u'views': 2, u'timestamp': u'2016022800', u'agent': u'user', u'project': u'en.wikipedia', u'granularity': u'daily', u'article': u'Courrendlin'}\n",
      "{u'access': u'all-access', u'views': 2, u'timestamp': u'2016022900', u'agent': u'user', u'project': u'en.wikipedia', u'granularity': u'daily', u'article': u'Courrendlin'}\n",
      "{u'access': u'all-access', u'views': 1, u'timestamp': u'2016030100', u'agent': u'user', u'project': u'en.wikipedia', u'granularity': u'daily', u'article': u'Courrendlin'}\n",
      "{u'access': u'all-access', u'views': 2, u'timestamp': u'2016030200', u'agent': u'user', u'project': u'en.wikipedia', u'granularity': u'daily', u'article': u'Courrendlin'}\n",
      "{u'access': u'all-access', u'views': 2, u'timestamp': u'2016030300', u'agent': u'user', u'project': u'en.wikipedia', u'granularity': u'daily', u'article': u'Courrendlin'}\n",
      "{u'access': u'all-access', u'views': 2, u'timestamp': u'2016030400', u'agent': u'user', u'project': u'en.wikipedia', u'granularity': u'daily', u'article': u'Courrendlin'}\n",
      "{u'access': u'all-access', u'views': 2, u'timestamp': u'2016030500', u'agent': u'user', u'project': u'en.wikipedia', u'granularity': u'daily', u'article': u'Courrendlin'}\n",
      "{u'access': u'all-access', u'views': 1, u'timestamp': u'2016030600', u'agent': u'user', u'project': u'en.wikipedia', u'granularity': u'daily', u'article': u'Courrendlin'}\n",
      "{u'access': u'all-access', u'views': 3, u'timestamp': u'2016030700', u'agent': u'user', u'project': u'en.wikipedia', u'granularity': u'daily', u'article': u'Courrendlin'}\n",
      "{u'access': u'all-access', u'views': 1, u'timestamp': u'2016030800', u'agent': u'user', u'project': u'en.wikipedia', u'granularity': u'daily', u'article': u'Courrendlin'}\n",
      "{u'access': u'all-access', u'views': 0, u'timestamp': u'2016030900', u'agent': u'user', u'project': u'en.wikipedia', u'granularity': u'daily', u'article': u'Courrendlin'}\n",
      "{u'access': u'all-access', u'views': 1, u'timestamp': u'2016031000', u'agent': u'user', u'project': u'en.wikipedia', u'granularity': u'daily', u'article': u'Courrendlin'}\n",
      "{u'access': u'all-access', u'views': 1, u'timestamp': u'2016031100', u'agent': u'user', u'project': u'en.wikipedia', u'granularity': u'daily', u'article': u'Courrendlin'}\n",
      "{u'access': u'all-access', u'views': 0, u'timestamp': u'2016031200', u'agent': u'user', u'project': u'en.wikipedia', u'granularity': u'daily', u'article': u'Courrendlin'}\n",
      "{u'access': u'all-access', u'views': 0, u'timestamp': u'2016031300', u'agent': u'user', u'project': u'en.wikipedia', u'granularity': u'daily', u'article': u'Courrendlin'}\n",
      "{u'access': u'all-access', u'views': 5, u'timestamp': u'2016031400', u'agent': u'user', u'project': u'en.wikipedia', u'granularity': u'daily', u'article': u'Courrendlin'}\n",
      "{u'access': u'all-access', u'views': 1, u'timestamp': u'2016031500', u'agent': u'user', u'project': u'en.wikipedia', u'granularity': u'daily', u'article': u'Courrendlin'}\n",
      "{u'access': u'all-access', u'views': 0, u'timestamp': u'2016031600', u'agent': u'user', u'project': u'en.wikipedia', u'granularity': u'daily', u'article': u'Courrendlin'}\n",
      "{u'access': u'all-access', u'views': 2, u'timestamp': u'2016031700', u'agent': u'user', u'project': u'en.wikipedia', u'granularity': u'daily', u'article': u'Courrendlin'}\n",
      "{u'access': u'all-access', u'views': 0, u'timestamp': u'2016031800', u'agent': u'user', u'project': u'en.wikipedia', u'granularity': u'daily', u'article': u'Courrendlin'}\n",
      "{u'access': u'all-access', u'views': 1, u'timestamp': u'2016031900', u'agent': u'user', u'project': u'en.wikipedia', u'granularity': u'daily', u'article': u'Courrendlin'}\n",
      "{u'access': u'all-access', u'views': 0, u'timestamp': u'2016032000', u'agent': u'user', u'project': u'en.wikipedia', u'granularity': u'daily', u'article': u'Courrendlin'}\n",
      "{u'access': u'all-access', u'views': 3, u'timestamp': u'2016032100', u'agent': u'user', u'project': u'en.wikipedia', u'granularity': u'daily', u'article': u'Courrendlin'}\n",
      "{u'access': u'all-access', u'views': 2, u'timestamp': u'2016032200', u'agent': u'user', u'project': u'en.wikipedia', u'granularity': u'daily', u'article': u'Courrendlin'}\n",
      "{u'access': u'all-access', u'views': 0, u'timestamp': u'2016032300', u'agent': u'user', u'project': u'en.wikipedia', u'granularity': u'daily', u'article': u'Courrendlin'}\n",
      "{u'access': u'all-access', u'views': 1, u'timestamp': u'2016032400', u'agent': u'user', u'project': u'en.wikipedia', u'granularity': u'daily', u'article': u'Courrendlin'}\n",
      "{u'access': u'all-access', u'views': 2, u'timestamp': u'2016032500', u'agent': u'user', u'project': u'en.wikipedia', u'granularity': u'daily', u'article': u'Courrendlin'}\n",
      "{u'access': u'all-access', u'views': 1, u'timestamp': u'2016032600', u'agent': u'user', u'project': u'en.wikipedia', u'granularity': u'daily', u'article': u'Courrendlin'}\n",
      "{u'access': u'all-access', u'views': 2, u'timestamp': u'2016032700', u'agent': u'user', u'project': u'en.wikipedia', u'granularity': u'daily', u'article': u'Courrendlin'}\n",
      "{u'access': u'all-access', u'views': 1, u'timestamp': u'2016032800', u'agent': u'user', u'project': u'en.wikipedia', u'granularity': u'daily', u'article': u'Courrendlin'}\n",
      "{u'access': u'all-access', u'views': 0, u'timestamp': u'2016032900', u'agent': u'user', u'project': u'en.wikipedia', u'granularity': u'daily', u'article': u'Courrendlin'}\n",
      "{u'access': u'all-access', u'views': 3, u'timestamp': u'2016033000', u'agent': u'user', u'project': u'en.wikipedia', u'granularity': u'daily', u'article': u'Courrendlin'}\n",
      "{u'access': u'all-access', u'views': 2, u'timestamp': u'2016033100', u'agent': u'user', u'project': u'en.wikipedia', u'granularity': u'daily', u'article': u'Courrendlin'}\n",
      "{u'access': u'all-access', u'views': 0, u'timestamp': u'2016040100', u'agent': u'user', u'project': u'en.wikipedia', u'granularity': u'daily', u'article': u'Courrendlin'}\n",
      "{u'access': u'all-access', u'views': 0, u'timestamp': u'2016040200', u'agent': u'user', u'project': u'en.wikipedia', u'granularity': u'daily', u'article': u'Courrendlin'}\n",
      "{u'access': u'all-access', u'views': 0, u'timestamp': u'2016040300', u'agent': u'user', u'project': u'en.wikipedia', u'granularity': u'daily', u'article': u'Courrendlin'}\n",
      "{u'access': u'all-access', u'views': 3, u'timestamp': u'2016040400', u'agent': u'user', u'project': u'en.wikipedia', u'granularity': u'daily', u'article': u'Courrendlin'}\n",
      "{u'access': u'all-access', u'views': 2, u'timestamp': u'2016040500', u'agent': u'user', u'project': u'en.wikipedia', u'granularity': u'daily', u'article': u'Courrendlin'}\n",
      "{u'access': u'all-access', u'views': 0, u'timestamp': u'2016040600', u'agent': u'user', u'project': u'en.wikipedia', u'granularity': u'daily', u'article': u'Courrendlin'}\n",
      "{u'access': u'all-access', u'views': 1, u'timestamp': u'2016040700', u'agent': u'user', u'project': u'en.wikipedia', u'granularity': u'daily', u'article': u'Courrendlin'}\n",
      "{u'access': u'all-access', u'views': 1, u'timestamp': u'2016040800', u'agent': u'user', u'project': u'en.wikipedia', u'granularity': u'daily', u'article': u'Courrendlin'}\n",
      "{u'access': u'all-access', u'views': 1, u'timestamp': u'2016040900', u'agent': u'user', u'project': u'en.wikipedia', u'granularity': u'daily', u'article': u'Courrendlin'}\n",
      "{u'access': u'all-access', u'views': 0, u'timestamp': u'2016041000', u'agent': u'user', u'project': u'en.wikipedia', u'granularity': u'daily', u'article': u'Courrendlin'}\n",
      "{u'access': u'all-access', u'views': 3, u'timestamp': u'2016041100', u'agent': u'user', u'project': u'en.wikipedia', u'granularity': u'daily', u'article': u'Courrendlin'}\n",
      "{u'access': u'all-access', u'views': 1, u'timestamp': u'2016041200', u'agent': u'user', u'project': u'en.wikipedia', u'granularity': u'daily', u'article': u'Courrendlin'}\n",
      "{u'access': u'all-access', u'views': 3, u'timestamp': u'2016041300', u'agent': u'user', u'project': u'en.wikipedia', u'granularity': u'daily', u'article': u'Courrendlin'}\n",
      "{u'access': u'all-access', u'views': 2, u'timestamp': u'2016041400', u'agent': u'user', u'project': u'en.wikipedia', u'granularity': u'daily', u'article': u'Courrendlin'}\n",
      "{u'access': u'all-access', u'views': 4, u'timestamp': u'2016041500', u'agent': u'user', u'project': u'en.wikipedia', u'granularity': u'daily', u'article': u'Courrendlin'}\n",
      "{u'access': u'all-access', u'views': 3, u'timestamp': u'2016041600', u'agent': u'user', u'project': u'en.wikipedia', u'granularity': u'daily', u'article': u'Courrendlin'}\n",
      "{u'access': u'all-access', u'views': 1, u'timestamp': u'2016041700', u'agent': u'user', u'project': u'en.wikipedia', u'granularity': u'daily', u'article': u'Courrendlin'}\n",
      "{u'access': u'all-access', u'views': 3, u'timestamp': u'2016041800', u'agent': u'user', u'project': u'en.wikipedia', u'granularity': u'daily', u'article': u'Courrendlin'}\n",
      "{u'access': u'all-access', u'views': 1, u'timestamp': u'2016041900', u'agent': u'user', u'project': u'en.wikipedia', u'granularity': u'daily', u'article': u'Courrendlin'}\n",
      "{u'access': u'all-access', u'views': 2, u'timestamp': u'2016042000', u'agent': u'user', u'project': u'en.wikipedia', u'granularity': u'daily', u'article': u'Courrendlin'}\n",
      "{u'access': u'all-access', u'views': 2, u'timestamp': u'2016042100', u'agent': u'user', u'project': u'en.wikipedia', u'granularity': u'daily', u'article': u'Courrendlin'}\n",
      "{u'access': u'all-access', u'views': 2, u'timestamp': u'2016042200', u'agent': u'user', u'project': u'en.wikipedia', u'granularity': u'daily', u'article': u'Courrendlin'}\n",
      "{u'access': u'all-access', u'views': 0, u'timestamp': u'2016042300', u'agent': u'user', u'project': u'en.wikipedia', u'granularity': u'daily', u'article': u'Courrendlin'}\n",
      "{u'access': u'all-access', u'views': 1, u'timestamp': u'2016042400', u'agent': u'user', u'project': u'en.wikipedia', u'granularity': u'daily', u'article': u'Courrendlin'}\n",
      "{u'access': u'all-access', u'views': 2, u'timestamp': u'2016042500', u'agent': u'user', u'project': u'en.wikipedia', u'granularity': u'daily', u'article': u'Courrendlin'}\n",
      "{u'access': u'all-access', u'views': 2, u'timestamp': u'2016042600', u'agent': u'user', u'project': u'en.wikipedia', u'granularity': u'daily', u'article': u'Courrendlin'}\n",
      "{u'access': u'all-access', u'views': 2, u'timestamp': u'2016042700', u'agent': u'user', u'project': u'en.wikipedia', u'granularity': u'daily', u'article': u'Courrendlin'}\n",
      "{u'access': u'all-access', u'views': 2, u'timestamp': u'2016042800', u'agent': u'user', u'project': u'en.wikipedia', u'granularity': u'daily', u'article': u'Courrendlin'}\n",
      "{u'access': u'all-access', u'views': 3, u'timestamp': u'2016042900', u'agent': u'user', u'project': u'en.wikipedia', u'granularity': u'daily', u'article': u'Courrendlin'}\n",
      "{u'access': u'all-access', u'views': 1, u'timestamp': u'2016043000', u'agent': u'user', u'project': u'en.wikipedia', u'granularity': u'daily', u'article': u'Courrendlin'}\n",
      "{u'access': u'all-access', u'views': 1, u'timestamp': u'2016050100', u'agent': u'user', u'project': u'en.wikipedia', u'granularity': u'daily', u'article': u'Courrendlin'}\n",
      "{u'access': u'all-access', u'views': 1, u'timestamp': u'2016050200', u'agent': u'user', u'project': u'en.wikipedia', u'granularity': u'daily', u'article': u'Courrendlin'}\n",
      "{u'access': u'all-access', u'views': 1, u'timestamp': u'2016050300', u'agent': u'user', u'project': u'en.wikipedia', u'granularity': u'daily', u'article': u'Courrendlin'}\n",
      "{u'access': u'all-access', u'views': 0, u'timestamp': u'2016050400', u'agent': u'user', u'project': u'en.wikipedia', u'granularity': u'daily', u'article': u'Courrendlin'}\n",
      "{u'access': u'all-access', u'views': 2, u'timestamp': u'2016050500', u'agent': u'user', u'project': u'en.wikipedia', u'granularity': u'daily', u'article': u'Courrendlin'}\n",
      "{u'access': u'all-access', u'views': 2, u'timestamp': u'2016050600', u'agent': u'user', u'project': u'en.wikipedia', u'granularity': u'daily', u'article': u'Courrendlin'}\n",
      "{u'access': u'all-access', u'views': 1, u'timestamp': u'2016050700', u'agent': u'user', u'project': u'en.wikipedia', u'granularity': u'daily', u'article': u'Courrendlin'}\n",
      "{u'access': u'all-access', u'views': 3, u'timestamp': u'2016050800', u'agent': u'user', u'project': u'en.wikipedia', u'granularity': u'daily', u'article': u'Courrendlin'}\n",
      "{u'access': u'all-access', u'views': 4, u'timestamp': u'2016050900', u'agent': u'user', u'project': u'en.wikipedia', u'granularity': u'daily', u'article': u'Courrendlin'}\n",
      "{u'access': u'all-access', u'views': 1, u'timestamp': u'2016051000', u'agent': u'user', u'project': u'en.wikipedia', u'granularity': u'daily', u'article': u'Courrendlin'}\n",
      "{u'access': u'all-access', u'views': 3, u'timestamp': u'2016051100', u'agent': u'user', u'project': u'en.wikipedia', u'granularity': u'daily', u'article': u'Courrendlin'}\n",
      "{u'access': u'all-access', u'views': 1, u'timestamp': u'2016051200', u'agent': u'user', u'project': u'en.wikipedia', u'granularity': u'daily', u'article': u'Courrendlin'}\n",
      "{u'access': u'all-access', u'views': 2, u'timestamp': u'2016051300', u'agent': u'user', u'project': u'en.wikipedia', u'granularity': u'daily', u'article': u'Courrendlin'}\n",
      "{u'access': u'all-access', u'views': 0, u'timestamp': u'2016051400', u'agent': u'user', u'project': u'en.wikipedia', u'granularity': u'daily', u'article': u'Courrendlin'}\n",
      "{u'access': u'all-access', u'views': 1, u'timestamp': u'2016051500', u'agent': u'user', u'project': u'en.wikipedia', u'granularity': u'daily', u'article': u'Courrendlin'}\n",
      "{u'access': u'all-access', u'views': 1, u'timestamp': u'2016051600', u'agent': u'user', u'project': u'en.wikipedia', u'granularity': u'daily', u'article': u'Courrendlin'}\n",
      "{u'access': u'all-access', u'views': 1, u'timestamp': u'2016051700', u'agent': u'user', u'project': u'en.wikipedia', u'granularity': u'daily', u'article': u'Courrendlin'}\n",
      "{u'access': u'all-access', u'views': 1, u'timestamp': u'2016051800', u'agent': u'user', u'project': u'en.wikipedia', u'granularity': u'daily', u'article': u'Courrendlin'}\n",
      "{u'access': u'all-access', u'views': 0, u'timestamp': u'2016051900', u'agent': u'user', u'project': u'en.wikipedia', u'granularity': u'daily', u'article': u'Courrendlin'}\n",
      "{u'access': u'all-access', u'views': 0, u'timestamp': u'2016052000', u'agent': u'user', u'project': u'en.wikipedia', u'granularity': u'daily', u'article': u'Courrendlin'}\n",
      "{u'access': u'all-access', u'views': 0, u'timestamp': u'2016052100', u'agent': u'user', u'project': u'en.wikipedia', u'granularity': u'daily', u'article': u'Courrendlin'}\n",
      "{u'access': u'all-access', u'views': 0, u'timestamp': u'2016052200', u'agent': u'user', u'project': u'en.wikipedia', u'granularity': u'daily', u'article': u'Courrendlin'}\n",
      "{u'access': u'all-access', u'views': 3, u'timestamp': u'2016052300', u'agent': u'user', u'project': u'en.wikipedia', u'granularity': u'daily', u'article': u'Courrendlin'}\n",
      "{u'access': u'all-access', u'views': 1, u'timestamp': u'2016052400', u'agent': u'user', u'project': u'en.wikipedia', u'granularity': u'daily', u'article': u'Courrendlin'}\n",
      "{u'access': u'all-access', u'views': 2, u'timestamp': u'2016052500', u'agent': u'user', u'project': u'en.wikipedia', u'granularity': u'daily', u'article': u'Courrendlin'}\n",
      "{u'access': u'all-access', u'views': 1, u'timestamp': u'2016052600', u'agent': u'user', u'project': u'en.wikipedia', u'granularity': u'daily', u'article': u'Courrendlin'}\n",
      "{u'access': u'all-access', u'views': 1, u'timestamp': u'2016052700', u'agent': u'user', u'project': u'en.wikipedia', u'granularity': u'daily', u'article': u'Courrendlin'}\n",
      "{u'access': u'all-access', u'views': 1, u'timestamp': u'2016052800', u'agent': u'user', u'project': u'en.wikipedia', u'granularity': u'daily', u'article': u'Courrendlin'}\n",
      "{u'access': u'all-access', u'views': 2, u'timestamp': u'2016052900', u'agent': u'user', u'project': u'en.wikipedia', u'granularity': u'daily', u'article': u'Courrendlin'}\n",
      "{u'access': u'all-access', u'views': 5, u'timestamp': u'2016053000', u'agent': u'user', u'project': u'en.wikipedia', u'granularity': u'daily', u'article': u'Courrendlin'}\n",
      "{u'access': u'all-access', u'views': 3, u'timestamp': u'2016053100', u'agent': u'user', u'project': u'en.wikipedia', u'granularity': u'daily', u'article': u'Courrendlin'}\n",
      "{u'access': u'all-access', u'views': 1, u'timestamp': u'2016060100', u'agent': u'user', u'project': u'en.wikipedia', u'granularity': u'daily', u'article': u'Courrendlin'}\n",
      "[2, 0, 0, 5, 3, 0, 2, 0, 0, 2, 2, 4, 2, 6, 1, 1, 1, 1, 1, 2, 2, 1, 0, 0, 0, 3, 1, 0, 2, 2, 1, 4, 1, 1, 0, 1, 1, 3, 0, 2, 0, 0, 0, 0, 2, 2, 1, 0, 1, 1, 2, 0, 2, 3, 0, 0, 0, 0, 3, 1, 1, 1, 1, 1, 1, 1, 0, 5, 3, 2, 2, 2, 1, 5, 2, 1, 0, 1, 1, 1, 3, 2, 1, 1, 2, 0, 1, 0, 1, 1, 1, 2, 0, 3, 1, 0, 2, 0, 1, 0, 2, 1, 2, 2, 1, 1, 0, 2, 0, 0, 5, 1, 1, 3, 2, 2, 1, 14, 2, 0, 3, 0, 2, 3, 3, 0, 0, 1, 0, 1, 9, 0, 0, 3, 1, 2, 0, 3, 1, 0, 5, 2, 2, 1, 2, 2, 2, 2, 1, 3, 1, 0, 1, 1, 0, 0, 5, 1, 0, 2, 0, 1, 0, 3, 2, 0, 1, 2, 1, 2, 1, 0, 3, 2, 0, 0, 0, 3, 2, 0, 1, 1, 1, 0, 3, 1, 3, 2, 4, 3, 1, 3, 1, 2, 2, 2, 0, 1, 2, 2, 2, 2, 3, 1, 1, 1, 1, 0, 2, 2, 1, 3, 4, 1, 3, 1, 2, 0, 1, 1, 1, 1, 0, 0, 0, 0, 3, 1, 2, 1, 1, 1, 2, 5, 3, 1]\n"
     ]
    }
   ],
   "source": [
    "# I\n",
    "with open('humans.csv', 'rb') as cranka:\n",
    "    riza = csv.reader(cranka)\n",
    "    nui = list() \n",
    "    for row in riza:\n",
    "        nui.append([row[0], float(row[1])])\n",
    "\n",
    " \n",
    "ID = 'Q69'\n",
    "prov = url.urlopen('http://www.wikidata.org/entity/' + ID)\n",
    "data = json.loads(prov.read())\n",
    "\n",
    "stri = underscorer(uni.normalize('NFKD', data['entities'][ID]['labels']['en']['value']))\n",
    "print(stri)\n",
    "\n",
    "print(unpack_that_shit(\n",
    "'http://wikimedia.org/api/rest_v1/metrics/pageviews/per-article/en.wikipedia/all-access/user/'+ stri +'/daily/2015100100/2016060100'))"
   ]
  },
  {
   "cell_type": "code",
   "execution_count": 22,
   "metadata": {
    "collapsed": true
   },
   "outputs": [],
   "source": [
    "def obj_dict(obj):\n",
    "    return obj.__dict__\n",
    "\n",
    "json_string = json.dumps(flake, default=obj_dict)"
   ]
  },
  {
   "cell_type": "code",
   "execution_count": 20,
   "metadata": {
    "collapsed": true
   },
   "outputs": [],
   "source": [
    "row_json = json.dumps(flake)"
   ]
  },
  {
   "cell_type": "code",
   "execution_count": 23,
   "metadata": {
    "collapsed": true
   },
   "outputs": [],
   "source": [
    "outputfilename = \"president.json\""
   ]
  },
  {
   "cell_type": "code",
   "execution_count": 25,
   "metadata": {
    "collapsed": true
   },
   "outputs": [],
   "source": [
    "with open(outputfilename, 'wb') as outfile:\n",
    "    json.dump(json_string, outfile)"
   ]
  },
  {
   "cell_type": "code",
   "execution_count": 4,
   "metadata": {
    "collapsed": false
   },
   "outputs": [
    {
     "name": "stdout",
     "output_type": "stream",
     "text": [
      "{u'items': [{u'access': u'all-access', u'views': 1, u'timestamp': u'2016050600', u'agent': u'user', u'project': u'en.wikipedia', u'granularity': u'daily', u'article': u'never_gonna_give_you_up'}]}\n"
     ]
    }
   ],
   "source": [
    "prov = url.urlopen(\n",
    "'http://wikimedia.org/api/rest_v1/metrics/pageviews/per-article/en.wikipedia/all-access/user/never_gonna_give_you_up/daily/2015100100/2016060100')\n",
    "data = json.loads(prov.read())\n",
    "baba = dict()\n",
    "print(data)"
   ]
  },
  {
   "cell_type": "code",
   "execution_count": 27,
   "metadata": {
    "collapsed": false
   },
   "outputs": [
    {
     "ename": "AttributeError",
     "evalue": "'list' object has no attribute 'items'",
     "output_type": "error",
     "traceback": [
      "\u001b[0;31m---------------------------------------------------------------------------\u001b[0m",
      "\u001b[0;31mAttributeError\u001b[0m                            Traceback (most recent call last)",
      "\u001b[0;32m<ipython-input-27-e985367b0f35>\u001b[0m in \u001b[0;36m<module>\u001b[0;34m()\u001b[0m\n\u001b[1;32m      1\u001b[0m \u001b[0mwriter\u001b[0m \u001b[0;34m=\u001b[0m \u001b[0mcsv\u001b[0m\u001b[0;34m.\u001b[0m\u001b[0mwriter\u001b[0m\u001b[0;34m(\u001b[0m\u001b[0mopen\u001b[0m\u001b[0;34m(\u001b[0m\u001b[0;34m'president.csv'\u001b[0m\u001b[0;34m,\u001b[0m \u001b[0;34m'wb'\u001b[0m\u001b[0;34m)\u001b[0m\u001b[0;34m)\u001b[0m\u001b[0;34m\u001b[0m\u001b[0m\n\u001b[0;32m----> 2\u001b[0;31m \u001b[0;32mfor\u001b[0m \u001b[0mkey\u001b[0m\u001b[0;34m,\u001b[0m \u001b[0mvalue\u001b[0m \u001b[0;32min\u001b[0m \u001b[0mflake\u001b[0m\u001b[0;34m.\u001b[0m\u001b[0mitems\u001b[0m\u001b[0;34m(\u001b[0m\u001b[0;34m)\u001b[0m\u001b[0;34m:\u001b[0m\u001b[0;34m\u001b[0m\u001b[0m\n\u001b[0m\u001b[1;32m      3\u001b[0m    \u001b[0mwriter\u001b[0m\u001b[0;34m.\u001b[0m\u001b[0mwriterow\u001b[0m\u001b[0;34m(\u001b[0m\u001b[0;34m[\u001b[0m\u001b[0mkey\u001b[0m\u001b[0;34m,\u001b[0m \u001b[0mvalue\u001b[0m\u001b[0;34m]\u001b[0m\u001b[0;34m)\u001b[0m\u001b[0;34m\u001b[0m\u001b[0m\n",
      "\u001b[0;31mAttributeError\u001b[0m: 'list' object has no attribute 'items'"
     ]
    }
   ],
   "source": [
    "writer = csv.writer(open('president.csv', 'wb'))\n",
    "for key, value in flake.items():\n",
    "   writer.writerow([key, value])"
   ]
  },
  {
   "cell_type": "code",
   "execution_count": 28,
   "metadata": {
    "collapsed": false
   },
   "outputs": [
    {
     "data": {
      "text/plain": [
       "list"
      ]
     },
     "execution_count": 28,
     "metadata": {},
     "output_type": "execute_result"
    }
   ],
   "source": [
    "type(flake)"
   ]
  },
  {
   "cell_type": "code",
   "execution_count": 73,
   "metadata": {
    "collapsed": false
   },
   "outputs": [],
   "source": [
    "def getFeatures(onePerson, myData):\n",
    "    views = []\n",
    "    time = []\n",
    "    name = []\n",
    "    for i in xrange(len(onePerson)):\n",
    "        views.append(onePerson[i][u'views'])\n",
    "        time.append(onePerson[i][u'timestamp'])\n",
    "        name.append(onePerson[i][ u'article'])\n",
    "        myData.append({\"Row\": i + 1, \"view\": onePerson[i][u'views']\n",
    "                     , \"time\": onePerson[i][u'timestamp']\n",
    "                     , \"name\": onePerson[i][ u'article']})\n",
    "    return(myData)"
   ]
  },
  {
   "cell_type": "code",
   "execution_count": 74,
   "metadata": {
    "collapsed": false,
    "scrolled": true
   },
   "outputs": [],
   "source": [
    "myData = []\n",
    "trump = getFeatures(trup, myData)\n",
    "hi = getFeatures(list1, myData)\n",
    "hi = getFeatures(list2, myData)\n",
    "hi = getFeatures(list3, myData)\n",
    "hi = getFeatures(list4, myData)"
   ]
  },
  {
   "cell_type": "code",
   "execution_count": 71,
   "metadata": {
    "collapsed": false
   },
   "outputs": [],
   "source": [
    "trup = unpack_that_shit(\n",
    "'http://wikimedia.org/api/rest_v1/metrics/pageviews/per-article/en.wikipedia/all-access/user/Donald_Trump/daily/2015100100/2016060100')\n",
    "list1 = unpack_that_shit('http://wikimedia.org/api/rest_v1/metrics/pageviews/per-article/en.wikipedia/all-access/user/Bernie_Sanders/daily/2015100100/2016060100')\n",
    "list2 = unpack_that_shit('http://wikimedia.org/api/rest_v1/metrics/pageviews/per-article/en.wikipedia/all-access/user/Barack_Obama/daily/2015100100/2016060100')\n",
    "list3 = unpack_that_shit('http://wikimedia.org/api/rest_v1/metrics/pageviews/per-article/en.wikipedia/all-access/user/Hillary_Clinton/daily/2015100100/2016060100')\n",
    "list4 = (unpack_that_shit('http://wikimedia.org/api/rest_v1/metrics/pageviews/per-article/en.wikipedia/all-access/user/Gary_Johnson/daily/2015100100/2016060100'))\n",
    "\n",
    "\n",
    "\n",
    "\n"
   ]
  },
  {
   "cell_type": "code",
   "execution_count": 76,
   "metadata": {
    "collapsed": false
   },
   "outputs": [],
   "source": [
    "import csv\n",
    "import os\n",
    "\n",
    "def WriteDictToCSV(csv_file,csv_columns,dict_data):\n",
    "    try:\n",
    "        with open(csv_file, 'w') as csvfile:\n",
    "            writer = csv.DictWriter(csvfile, fieldnames=csv_columns)\n",
    "            writer.writeheader()\n",
    "            for data in dict_data:\n",
    "                writer.writerow(data)\n",
    "    except IOError as (errno, strerror):\n",
    "            print(\"I/O error({0}): {1}\".format(errno, strerror))    \n",
    "    return            \n",
    "\n",
    "csv_file = \"presidents.csv\"\n",
    "\n",
    "WriteDictToCSV(csv_file,[\"Row\", \"view\", \"time\", \"name\"], hi)"
   ]
  },
  {
   "cell_type": "code",
   "execution_count": 68,
   "metadata": {
    "collapsed": false
   },
   "outputs": [
    {
     "data": {
      "text/plain": [
       "'/Users/Hang/HPIHack'"
      ]
     },
     "execution_count": 68,
     "metadata": {},
     "output_type": "execute_result"
    }
   ],
   "source": [
    "import csv\n",
    "import os\n",
    "os.getcwd()"
   ]
  },
  {
   "cell_type": "code",
   "execution_count": null,
   "metadata": {
    "collapsed": true
   },
   "outputs": [],
   "source": []
  }
 ],
 "metadata": {
  "kernelspec": {
   "display_name": "Python 2",
   "language": "python",
   "name": "python2"
  },
  "language_info": {
   "codemirror_mode": {
    "name": "ipython",
    "version": 2
   },
   "file_extension": ".py",
   "mimetype": "text/x-python",
   "name": "python",
   "nbconvert_exporter": "python",
   "pygments_lexer": "ipython2",
   "version": "2.7.11"
  }
 },
 "nbformat": 4,
 "nbformat_minor": 0
}
