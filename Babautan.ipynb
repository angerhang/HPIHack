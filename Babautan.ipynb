{
 "cells": [
  {
   "cell_type": "code",
   "execution_count": null,
   "metadata": {
    "collapsed": false
   },
   "outputs": [],
   "source": []
  },
  {
   "cell_type": "code",
   "execution_count": 3,
   "metadata": {
    "collapsed": false
   },
   "outputs": [],
   "source": [
    "import urllib as url\n",
    "import json\n",
    "import numpy as np\n",
    "import unicodedata as uni\n",
    "import csv\n",
    "\n",
    "def underscorer(stringy):\n",
    "    \n",
    "    return stringy.replace(\" \",\"_\")\n",
    "\n",
    "\n",
    "# unpacks some shit and divides it in two lists, one for the view and one for the time\n",
    "def unpack_that_shit(jason_file):\n",
    "    \n",
    "    prov = url.urlopen(jason_file)\n",
    "    data = json.loads(prov.read())\n",
    "    baba = list()\n",
    "    \n",
    "    for i in range(len(data['items'])):\n",
    "        baba.append(int(data['items'][i]['views']))\n",
    "        #baba2['Timestamp'] = data['items'][i]['timestamp']\n",
    "        #baba.append(baba2)\n",
    "        \n",
    "    return baba\n",
    "    "
   ]
  },
  {
   "cell_type": "code",
   "execution_count": 21,
   "metadata": {
    "collapsed": false
   },
   "outputs": [
    {
     "ename": "TypeError",
     "evalue": "object of type '_csv.reader' has no len()",
     "output_type": "error",
     "traceback": [
      "\u001b[1;31m---------------------------------------------------------------------------\u001b[0m",
      "\u001b[1;31mTypeError\u001b[0m                                 Traceback (most recent call last)",
      "\u001b[1;32m<ipython-input-21-f01639ba7419>\u001b[0m in \u001b[0;36m<module>\u001b[1;34m()\u001b[0m\n\u001b[0;32m      3\u001b[0m     \u001b[0mriza\u001b[0m \u001b[1;33m=\u001b[0m \u001b[0mcsv\u001b[0m\u001b[1;33m.\u001b[0m\u001b[0mreader\u001b[0m\u001b[1;33m(\u001b[0m\u001b[0mcranka\u001b[0m\u001b[1;33m)\u001b[0m\u001b[1;33m\u001b[0m\u001b[0m\n\u001b[0;32m      4\u001b[0m     \u001b[0mnui\u001b[0m \u001b[1;33m=\u001b[0m \u001b[0mlist\u001b[0m\u001b[1;33m(\u001b[0m\u001b[1;33m)\u001b[0m\u001b[1;33m\u001b[0m\u001b[0m\n\u001b[1;32m----> 5\u001b[1;33m     \u001b[1;32mprint\u001b[0m\u001b[1;33m(\u001b[0m\u001b[0mlen\u001b[0m\u001b[1;33m(\u001b[0m\u001b[0mriza\u001b[0m\u001b[1;33m)\u001b[0m\u001b[1;33m)\u001b[0m\u001b[1;33m\u001b[0m\u001b[0m\n\u001b[0m\u001b[0;32m      6\u001b[0m     \u001b[1;32mfor\u001b[0m \u001b[0mrow\u001b[0m \u001b[1;32min\u001b[0m \u001b[0mriza\u001b[0m\u001b[1;33m:\u001b[0m\u001b[1;33m\u001b[0m\u001b[0m\n\u001b[0;32m      7\u001b[0m         \u001b[0mnui\u001b[0m\u001b[1;33m.\u001b[0m\u001b[0mappend\u001b[0m\u001b[1;33m(\u001b[0m\u001b[1;33m[\u001b[0m\u001b[0mrow\u001b[0m\u001b[1;33m[\u001b[0m\u001b[1;36m0\u001b[0m\u001b[1;33m]\u001b[0m\u001b[1;33m,\u001b[0m \u001b[0mfloat\u001b[0m\u001b[1;33m(\u001b[0m\u001b[0mrow\u001b[0m\u001b[1;33m[\u001b[0m\u001b[1;36m1\u001b[0m\u001b[1;33m]\u001b[0m\u001b[1;33m)\u001b[0m\u001b[1;33m]\u001b[0m\u001b[1;33m)\u001b[0m\u001b[1;33m\u001b[0m\u001b[0m\n",
      "\u001b[1;31mTypeError\u001b[0m: object of type '_csv.reader' has no len()"
     ]
    }
   ],
   "source": [
    "# I\n",
    "with open('humans.csv', 'rb') as cranka:\n",
    "    riza = csv.reader(cranka)\n",
    "    nui = list() \n",
    "    for row in riza:\n",
    "        nui.append([row[0], float(row[1])])\n",
    "\n",
    " \n",
    "ID = 'Q69'\n",
    "prov = url.urlopen('http://www.wikidata.org/entity/' + ID)\n",
    "data = json.loads(prov.read())\n",
    "\n",
    "stri = underscorer(uni.normalize('NFKD', data['entities'][ID]['labels']['en']['value']))\n",
    "print(stri)\n",
    "\n",
    "print(unpack_that_shit(\n",
    "'http://wikimedia.org/api/rest_v1/metrics/pageviews/per-article/en.wikipedia/all-access/user/'+ stri +'/daily/2015100100/2016060100'))"
   ]
  },
  {
   "cell_type": "code",
   "execution_count": 6,
   "metadata": {
    "collapsed": false
   },
   "outputs": [
    {
     "name": "stdout",
     "output_type": "stream",
     "text": [
      "[[66184, 43317, 35165, 48162, 44634, 36231, 33306, 32039, 29426, 27001, 29642, 31291, 32553, 47416, 51259, 40979, 31160, 31024, 34520, 32455, 32529, 33547, 28576, 26808, 31748, 52550, 50176, 38628, 61329, 42940, 28622, 29071, 29706, 33879, 36452, 31911, 29258, 26146, 55964, 38504, 39495, 60163, 37140, 34585, 28241, 33261, 30375, 30896, 30446, 35518, 48861, 97931, 46723, 41109, 41243, 37112, 48248, 43140, 34893, 33117, 33779, 53503, 42482, 37503, 39042, 43406, 37955, 45736, 187642, 223363, 181414, 139220, 126868, 106102, 93227, 112946, 151062, 114299, 73525, 58923, 68075, 95256, 77541, 71999, 53978, 55049, 45277, 45268, 44391, 50159, 54913, 44731, 49319, 49705, 59936, 52181, 57707, 63668, 73783, 58730, 51790, 60737, 55970, 58585, 62678, 72196, 124329, 77149, 66781, 87274, 81726, 93757, 78926, 67419, 65722, 76281, 79032, 103344, 111353, 107896, 116904, 79182, 92047, 142416, 1126257, 923465, 377177, 212087, 134188, 218751, 199101, 152293, 323030, 263117, 208048, 136674, 165298, 112972, 77383, 120530, 177644, 204013, 134136, 304797, 353204, 161589, 279299, 239255, 375076, 235640, 257860, 302397, 409511, 549599, 498636, 2368814, 4034771, 2989680, 2091519, 827165, 675295, 572772, 477360, 404631, 417722, 369946, 369292, 460921, 303007, 264485, 215619, 209466, 218749, 249108, 236393, 200596, 196815, 158862, 158235, 207236, 183641, 205133, 173716, 147965, 112574, 132345, 142678, 183689, 152347, 132101, 111613, 91470, 108421, 117840, 127233, 190818, 108446, 61201, 48627, 64481, 73327, 102534, 163511, 109991, 84092, 70616, 73669, 89044, 95517, 148473, 108336, 93945, 76370, 83480, 80330, 74420, 288977, 185389, 134439, 98271, 97176, 96106, 93191, 89183, 86604, 82185, 72334, 75553, 92947, 88863, 94484, 70391, 61746, 51556, 53962, 55265, 54925, 58772, 83471, 73885, 60000, 55876, 56429, 55818, 61229], [25818, 20591, 17683, 22457, 23893, 22067, 23528, 23702, 22563, 22581, 26494, 33773, 64054, 394932, 107519, 67170, 48984, 58653, 52821, 37753, 33002, 35930, 28370, 24520, 29090, 27341, 30344, 23968, 31197, 20986, 16513, 20060, 20068, 24236, 21141, 23256, 25524, 28515, 32140, 23534, 18622, 22543, 19471, 17844, 15324, 68178, 23736, 19358, 19312, 19408, 17412, 13405, 12961, 14742, 22856, 15289, 13979, 11755, 10701, 12555, 11665, 13419, 12538, 11988, 11345, 9079, 11565, 16188, 21759, 33903, 28291, 21180, 17126, 16685, 16084, 17968, 25930, 21817, 28892, 25675, 102341, 28088, 21907, 24656, 22775, 19936, 17852, 19236, 19398, 17875, 18149, 15018, 15317, 16946, 22220, 17690, 18988, 25492, 21674, 21280, 19365, 24682, 27955, 45235, 69156, 43567, 47570, 43793, 59486, 189584, 73815, 69782, 69142, 69790, 53173, 58002, 60987, 128745, 99325, 77363, 68714, 57176, 79527, 120816, 364027, 146082, 156164, 165792, 92760, 131056, 88444, 109239, 486363, 180750, 197445, 96372, 83235, 73128, 92194, 88622, 78440, 83242, 94459, 100633, 74901, 62154, 77337, 63510, 62841, 55263, 66937, 52275, 79813, 145964, 73108, 64233, 54079, 71074, 127054, 67400, 101248, 97565, 60323, 59066, 71072, 89893, 92523, 89328, 45121, 39614, 34379, 36607, 36092, 39926, 44304, 32329, 30295, 54630, 82714, 54402, 45312, 41002, 40610, 41345, 38946, 35888, 34814, 42663, 89895, 62453, 62515, 48780, 55075, 44791, 39109, 39553, 55595, 94494, 59401, 51122, 50731, 63932, 62563, 32177, 22439, 18504, 21732, 23352, 28658, 37973, 24625, 21330, 15956, 20112, 20497, 22071, 58233, 35232, 26124, 23413, 23021, 22860, 24708, 39313, 22765, 18453, 15690, 17778, 19901, 23479, 36762, 25963, 19513, 16116, 21274, 21754, 22009, 20034, 24183, 25912, 26391, 23651, 20877, 22820, 19442]]\n"
     ]
    }
   ],
   "source": [
    "\n",
    "flake = list()\n",
    "\n",
    "flake.append(unpack_that_shit(\n",
    "'http://wikimedia.org/api/rest_v1/metrics/pageviews/per-article/en.wikipedia/all-access/user/Donald_Trump/daily/2015100100/2016060100'))\n",
    "flake.append(unpack_that_shit(\n",
    "'http://wikimedia.org/api/rest_v1/metrics/pageviews/per-article/en.wikipedia/all-access/user/Bernie_Sanders/daily/2015100100/2016060100'))\n",
    "\n",
    "print(flake)"
   ]
  },
  {
   "cell_type": "code",
   "execution_count": 43,
   "metadata": {
    "collapsed": false
   },
   "outputs": [
    {
     "name": "stdout",
     "output_type": "stream",
     "text": [
      "{u'items': [{u'access': u'all-access', u'views': 1, u'timestamp': u'2016050600', u'agent': u'user', u'project': u'en.wikipedia', u'granularity': u'daily', u'article': u'never_gonna_give_you_up'}]}\n"
     ]
    }
   ],
   "source": [
    "prov = url.urlopen(\n",
    "'http://wikimedia.org/api/rest_v1/metrics/pageviews/per-article/en.wikipedia/all-access/user/never_gonna_give_you_up/daily/2015100100/2016060100')\n",
    "data = json.loads(prov.read())\n",
    "baba = dict()\n",
    "print(data)"
   ]
  },
  {
   "cell_type": "code",
   "execution_count": null,
   "metadata": {
    "collapsed": true
   },
   "outputs": [],
   "source": []
  }
 ],
 "metadata": {
  "kernelspec": {
   "display_name": "Python 2",
   "language": "python",
   "name": "python2"
  },
  "language_info": {
   "codemirror_mode": {
    "name": "ipython",
    "version": 2
   },
   "file_extension": ".py",
   "mimetype": "text/x-python",
   "name": "python",
   "nbconvert_exporter": "python",
   "pygments_lexer": "ipython2",
   "version": "2.7.11"
  }
 },
 "nbformat": 4,
 "nbformat_minor": 0
}
