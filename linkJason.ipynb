{
 "cells": [
  {
   "cell_type": "code",
   "execution_count": 1,
   "metadata": {
    "collapsed": true
   },
   "outputs": [],
   "source": [
    "import json"
   ]
  },
  {
   "cell_type": "code",
   "execution_count": 206,
   "metadata": {
    "collapsed": true
   },
   "outputs": [],
   "source": [
    "with open(\"latest-1000.json\") as json_file:\n",
    "    json_data = json.load(json_file)"
   ]
  },
  {
   "cell_type": "code",
   "execution_count": 196,
   "metadata": {
    "collapsed": true
   },
   "outputs": [],
   "source": [
    "def getKeys(myItem):\n",
    "    keys = []\n",
    "    for key in myItem:\n",
    "        keys.append(key)\n",
    "    return  keys"
   ]
  },
  {
   "cell_type": "code",
   "execution_count": 197,
   "metadata": {
    "collapsed": true
   },
   "outputs": [],
   "source": [
    "def getClaims(myItem):\n",
    "    return getKeys(myItem['claims'])"
   ]
  },
  {
   "cell_type": "code",
   "execution_count": 198,
   "metadata": {
    "collapsed": false
   },
   "outputs": [],
   "source": [
    "def getDataTypes(myItem):\n",
    "    claims = getClaims(myItem)\n",
    "    datatypes = []\n",
    "    for claim in claims:\n",
    "        datatypes.append(myItem['claims'][claim][0]['mainsnak']['datatype'])\n",
    "    return datatypes"
   ]
  },
  {
   "cell_type": "code",
   "execution_count": 199,
   "metadata": {
    "collapsed": false
   },
   "outputs": [],
   "source": [
    "def findLnlinkedIndexes(myItem):\n",
    "    dataTypes = getDataTypes(myItem)\n",
    "    itemIndexes = []\n",
    "    for i in xrange(0, len(dataTypes) - 1):\n",
    "        if dataTypes[i] == \"wikibase-item\":\n",
    "            itemIndexes.append(i)\n",
    "    return itemIndexes"
   ]
  },
  {
   "cell_type": "code",
   "execution_count": 200,
   "metadata": {
    "collapsed": false
   },
   "outputs": [],
   "source": [
    "def findLinkedItems(myItem):\n",
    "    indexes = findInlinkedIndexes(myItem)\n",
    "    claims = getClaims(myItem)\n",
    "    claims = [claims[x] for x in indexes]\n",
    "    ids = []\n",
    "    for claim in claims:\n",
    "        ids.append(myItem['claims'][claim][0]['id'])\n",
    "    return ids"
   ]
  },
  {
   "cell_type": "code",
   "execution_count": 201,
   "metadata": {
    "collapsed": false
   },
   "outputs": [],
   "source": [
    "# get the linked items for every item\n",
    "def getListofItems(myData):\n",
    "    linkedItems = []\n",
    "    for data in myData: \n",
    "        items = findLinkedItems(data)\n",
    "        linkedItems.append(items)\n",
    "    return linkedItems"
   ]
  },
  {
   "cell_type": "code",
   "execution_count": 209,
   "metadata": {
    "collapsed": false
   },
   "outputs": [],
   "source": [
    "# Write the linked items to the jason file\n",
    "listItems = getListofItems(json_data[1:len(json_data)])\n",
    "\n",
    "for index in xrange(1, len(json_data)):\n",
    "    json_data[index]['linked'] = listItems[index - 1]"
   ]
  },
  {
   "cell_type": "code",
   "execution_count": 212,
   "metadata": {
    "collapsed": false
   },
   "outputs": [],
   "source": [
    "with open('linked.json', 'w') as outfile:\n",
    "    json.dump(data, outfile)"
   ]
  },
  {
   "cell_type": "code",
   "execution_count": null,
   "metadata": {
    "collapsed": true
   },
   "outputs": [],
   "source": []
  }
 ],
 "metadata": {
  "kernelspec": {
   "display_name": "Python 2",
   "language": "python",
   "name": "python2"
  },
  "language_info": {
   "codemirror_mode": {
    "name": "ipython",
    "version": 2
   },
   "file_extension": ".py",
   "mimetype": "text/x-python",
   "name": "python",
   "nbconvert_exporter": "python",
   "pygments_lexer": "ipython2",
   "version": "2.7.11"
  }
 },
 "nbformat": 4,
 "nbformat_minor": 0
}
