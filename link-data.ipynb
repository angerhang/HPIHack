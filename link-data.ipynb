{
 "cells": [
  {
   "cell_type": "code",
   "execution_count": 150,
   "metadata": {
    "collapsed": true
   },
   "outputs": [],
   "source": [
    "import json\n",
    "import pdb"
   ]
  },
  {
   "cell_type": "code",
   "execution_count": 2,
   "metadata": {
    "collapsed": true
   },
   "outputs": [],
   "source": [
    "with open(\"latest-1000.json\") as json_file:\n",
    "    json_data = json.load(json_file)"
   ]
  },
  {
   "cell_type": "code",
   "execution_count": 205,
   "metadata": {
    "collapsed": true
   },
   "outputs": [],
   "source": [
    "def getKeys(myItem):\n",
    "    keys = []\n",
    "    for key in myItem:\n",
    "        keys.append(key)\n",
    "    return  keys"
   ]
  },
  {
   "cell_type": "code",
   "execution_count": 206,
   "metadata": {
    "collapsed": true
   },
   "outputs": [],
   "source": [
    "def getClaims(myItem):\n",
    "    return getKeys(myItem['claims'])"
   ]
  },
  {
   "cell_type": "code",
   "execution_count": 207,
   "metadata": {
    "collapsed": false
   },
   "outputs": [],
   "source": [
    "def getDataTypes(myItem):\n",
    "    claims = getClaims(myItem)\n",
    "    datatypes = []\n",
    "    for claim in claims:\n",
    "        datatypes.append(myItem['claims'][claim][0]['mainsnak']['datatype'])\n",
    "    return datatypes"
   ]
  },
  {
   "cell_type": "code",
   "execution_count": 344,
   "metadata": {
    "collapsed": false
   },
   "outputs": [],
   "source": [
    "def findLnlinkedIndexes(myItem):\n",
    "    dataTypes = getDataTypes(myItem)\n",
    "    itemIndexes = []\n",
    "    for i in xrange(0, len(dataTypes) - 1):\n",
    "        if dataTypes[i] == \"wikibase-item\":\n",
    "            itemIndexes.append(i)\n",
    "    return itemIndexes"
   ]
  },
  {
   "cell_type": "code",
   "execution_count": 366,
   "metadata": {
    "collapsed": false
   },
   "outputs": [],
   "source": [
    "def findLinkedItems(myItem):\n",
    "    indexes = []\n",
    "    claims = []\n",
    "    newClaims = []\n",
    "    indexes = findLnlinkedIndexes(myItem)\n",
    "    claims = getClaims(myItem)\n",
    "    newClaims = [claims[x] for x in indexes]\n",
    "    ids = []\n",
    "    for claim in newClaims:\n",
    "        if u\"datavalue\" in myItem['claims'][claim][0][u'mainsnak']:\n",
    "            ids.append(myItem['claims'][claim][0][u'mainsnak'][u'datavalue'][u'value'][u'numeric-id'])\n",
    "        else:\n",
    "            print \"No!\"\n",
    "    return ids"
   ]
  },
  {
   "cell_type": "code",
   "execution_count": 367,
   "metadata": {
    "collapsed": false
   },
   "outputs": [],
   "source": [
    "# get the linked items for every item\n",
    "def getListofItems(myData):\n",
    "    linkedItems = []\n",
    "    i = 1\n",
    "    for data in myData:\n",
    "        items = findLinkedItems(data)\n",
    "        linkedItems.append(items)\n",
    "        i = i + 1\n",
    "    return linkedItems"
   ]
  },
  {
   "cell_type": "code",
   "execution_count": 370,
   "metadata": {
    "collapsed": false
   },
   "outputs": [
    {
     "name": "stdout",
     "output_type": "stream",
     "text": [
      "No!\n",
      "No!\n",
      "No!\n",
      "No!\n",
      "No!\n",
      "No!\n",
      "No!\n",
      "No!\n",
      "No!\n",
      "No!\n",
      "No!\n",
      "No!\n",
      "No!\n",
      "No!\n",
      "No!\n",
      "No!\n"
     ]
    }
   ],
   "source": [
    "# Write the linked items to the jason file\n",
    "listItems = getListofItems(json_data)\n",
    "for index in xrange(len(listItems)):\n",
    "    json_data[index][columnName] = listItems[index - 1]"
   ]
  },
  {
   "cell_type": "code",
   "execution_count": 371,
   "metadata": {
    "collapsed": false
   },
   "outputs": [],
   "source": [
    "with open('linked.json', 'w') as outfile:\n",
    "    \n",
    "    json.dump(json_data, outfile)"
   ]
  }
 ],
 "metadata": {
  "kernelspec": {
   "display_name": "Python 2",
   "language": "python",
   "name": "python2"
  },
  "language_info": {
   "codemirror_mode": {
    "name": "ipython",
    "version": 2
   },
   "file_extension": ".py",
   "mimetype": "text/x-python",
   "name": "python",
   "nbconvert_exporter": "python",
   "pygments_lexer": "ipython2",
   "version": "2.7.11"
  }
 },
 "nbformat": 4,
 "nbformat_minor": 0
}
