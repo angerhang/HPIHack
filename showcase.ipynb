{
 "cells": [
  {
   "cell_type": "code",
   "execution_count": 120,
   "metadata": {
    "collapsed": false
   },
   "outputs": [
    {
     "name": "stdout",
     "output_type": "stream",
     "text": [
      "labels\n",
      "aliases\n",
      "id\n",
      "descriptions\n",
      "claims\n",
      "sitelinks\n",
      "type\n",
      "{'hy': [{'language': 'hy', 'value': 'Ադամս, Դուգլաս'}], 'fr': [{'language': 'fr', 'value': 'Douglas Noel Adams'}, {'language': 'fr', 'value': 'Douglas Noël Adams'}], 'pt': [{'language': 'pt', 'value': 'Douglas Noël Adams'}, {'language': 'pt', 'value': 'Douglas Noel Adams'}], 'ru': [{'language': 'ru', 'value': 'Адамс, Дуглас'}], 'zh': [{'language': 'zh', 'value': '亞當斯'}], 'ja': [{'language': 'ja', 'value': 'ダグラス・アダムス'}], 'nb': [{'language': 'nb', 'value': 'Douglas Noël Adams'}], 'be-tarask': [{'language': 'be-tarask', 'value': 'Дуглас Адамс'}], 'el': [{'language': 'el', 'value': 'Ντάγκλας Νόελ Άνταμς'}], 'it': [{'language': 'it', 'value': 'Douglas Noel Adams'}], 'als': [{'language': 'als', 'value': 'Douglas Noel Adams'}], 'es': [{'language': 'es', 'value': 'Douglas Noel Adams'}, {'language': 'es', 'value': 'Douglas Noël Adams'}], 'pt-br': [{'language': 'pt-br', 'value': 'Douglas Noël Adams'}, {'language': 'pt-br', 'value': 'Douglas Noel Adams'}], 'de': [{'language': 'de', 'value': 'Douglas Noël Adams'}, {'language': 'de', 'value': 'Douglas Noel Adams'}], 'nl': [{'language': 'nl', 'value': 'Douglas Noel Adams'}, {'language': 'nl', 'value': 'Douglas Noël Adams'}], 'cs': [{'language': 'cs', 'value': 'Douglas Noël Adams'}, {'language': 'cs', 'value': 'Douglas Noel Adams'}], 'en': [{'language': 'en', 'value': 'Douglas Noël Adams'}, {'language': 'en', 'value': 'Douglas Noel Adams'}]}\n"
     ]
    },
    {
     "data": {
      "text/plain": [
       "14"
      ]
     },
     "execution_count": 120,
     "metadata": {},
     "output_type": "execute_result"
    }
   ],
   "source": [
    "import json\n",
    "with open('../latest-1000.json') as data_file:\n",
    "    data=json.load(data_file)\n",
    "\n",
    "for key in data[0]:\n",
    "    print(key)\n",
    "#for i in range(900):\n",
    "#    print(data[i]['type'])\n",
    "\n",
    "    \n",
    "    \n",
    "print(data[14]['aliases'])\n",
    "\n",
    "list((map(lambda i: i['id'],data))).index('Q42')"
   ]
  },
  {
   "cell_type": "code",
   "execution_count": 121,
   "metadata": {
    "collapsed": false
   },
   "outputs": [
    {
     "data": {
      "text/plain": [
       "[{'hash': 'a51d6594fee36c7452eaed2db35a4833613a7078',\n",
       "  'snaks': {'P143': [{'datatype': 'wikibase-item',\n",
       "     'datavalue': {'type': 'wikibase-entityid',\n",
       "      'value': {'entity-type': 'item', 'numeric-id': 54919}},\n",
       "     'property': 'P143',\n",
       "     'snaktype': 'value'}]},\n",
       "  'snaks-order': ['P143']}]"
      ]
     },
     "execution_count": 121,
     "metadata": {},
     "output_type": "execute_result"
    }
   ],
   "source": [
    "\n",
    "data[14]['claims']['P1005'][0] ['references']"
   ]
  },
  {
   "cell_type": "code",
   "execution_count": 122,
   "metadata": {
    "collapsed": false
   },
   "outputs": [],
   "source": [
    "\n",
    "def non_wiki_ref(claim):\n",
    "    wikipedia=['Q52','Q328','Q48183']\n",
    "    for i in range(len(claim ['references'])):\n",
    "        if claim ['references'] [i] ['property'] not in wikipedia:\n",
    "            return True   "
   ]
  },
  {
   "cell_type": "code",
   "execution_count": 123,
   "metadata": {
    "collapsed": false
   },
   "outputs": [],
   "source": [
    "def count_references(claims):\n",
    "    property_list=[]\n",
    "    \n",
    "    for p in claims:\n",
    "        if True:#not wiki_ref(p):\n",
    "            for i in claims[p]:  \n",
    "                if 'references' in i:\n",
    "                    \n",
    "                    property_list.append(p)\n",
    "    return property_list\n"
   ]
  },
  {
   "cell_type": "code",
   "execution_count": 124,
   "metadata": {
    "collapsed": false
   },
   "outputs": [
    {
     "data": {
      "text/plain": [
       "['P998',\n",
       " 'P998',\n",
       " 'P998',\n",
       " 'P998',\n",
       " 'P998',\n",
       " 'P998',\n",
       " 'P1411',\n",
       " 'P1411',\n",
       " 'P69',\n",
       " 'P69',\n",
       " 'P26',\n",
       " 'P551',\n",
       " 'P551']"
      ]
     },
     "execution_count": 124,
     "metadata": {},
     "output_type": "execute_result"
    }
   ],
   "source": [
    "def count_qualifers(claims):\n",
    "    l=[]\n",
    "    for p in claims:\n",
    "        \n",
    "        \n",
    "        for i in claims[p]:\n",
    "            if 'qualifiers' in i:\n",
    "                l.append(p)\n",
    "    return l\n",
    "count_qualifers(data[14]['claims']) \n",
    "#set(count_qualifers(data[14]['claims'])).intersection(count_references(data[14]['claims']))"
   ]
  },
  {
   "cell_type": "code",
   "execution_count": 125,
   "metadata": {
    "collapsed": false
   },
   "outputs": [
    {
     "data": {
      "text/plain": [
       "['ca',\n",
       " 'fa',\n",
       " 'te',\n",
       " 'sv',\n",
       " 'ml',\n",
       " 'it',\n",
       " 'nds',\n",
       " 'sr',\n",
       " 'eo',\n",
       " 'ilo',\n",
       " 'nl',\n",
       " 'en',\n",
       " 'hr',\n",
       " 'ta',\n",
       " 'fr',\n",
       " 'pt',\n",
       " 'ru',\n",
       " 'fi',\n",
       " 'de',\n",
       " 'lt',\n",
       " 'es',\n",
       " 'pl',\n",
       " 'scn',\n",
       " 'pt-br',\n",
       " 'hu',\n",
       " 'bg',\n",
       " 'cs',\n",
       " 'id']"
      ]
     },
     "execution_count": 125,
     "metadata": {},
     "output_type": "execute_result"
    }
   ],
   "source": [
    "def alias(data):\n",
    "    return list(data['aliases'].keys())\n",
    "     \n",
    "\n",
    "alias(data[0])  "
   ]
  },
  {
   "cell_type": "code",
   "execution_count": 126,
   "metadata": {
    "collapsed": false
   },
   "outputs": [],
   "source": [
    "import operator\n",
    "def score_item(item):\n",
    "    qualifiers=count_qualifers(item['claims'])\n",
    "    references=count_references(item['claims'])\n",
    "    aliases=alias(item)\n",
    "    return len(qualifiers + references + aliases)\n",
    "\n",
    "def score_dataset(data):\n",
    "    result={d['id']:score_item(d) for d in data if d['type']=='item'}\n",
    "    max_score = max(result[k] for k in result)\n",
    "    return {k: result[k]/max_score for k in result}\n",
    "\n",
    "normalized_result = score_dataset(data)\n",
    "\n",
    "data_humans=[]\n",
    "for d in range(len(data)):\n",
    "    HUMAN=5\n",
    "    for c in list(data[d]['claims'].keys()):\n",
    "        if (c=='P31'):\n",
    "            number=data[d]['claims']['P31'][0]['mainsnak']['datavalue']['value']['numeric-id']\n",
    "            if (number==HUMAN):\n",
    "                data_humans.append(data[d])\n",
    "non_humans = [d for d in data if d not in data_humans]   \n",
    "\n",
    "sorted_ranking = sorted(normalized_result.items(), reverse=True, key=operator.itemgetter(1))\n",
    "#print(sorted_ranking)"
   ]
  },
  {
   "cell_type": "code",
   "execution_count": 131,
   "metadata": {
    "collapsed": false
   },
   "outputs": [],
   "source": [
    "non_human_score = score_dataset(non_humans)\n",
    "human_score = score_dataset(data_humans)\n",
    "\n",
    "    \n",
    "import csv\n",
    "def ranking_to_csv(filename, ranking):\n",
    "    with open(filename, \"w\") as f:\n",
    "        w = csv.writer(f)\n",
    "        for item_id in ranking:\n",
    "            w.writerow([item_id, ranking[item_id]])\n",
    "ra'non_humans.csv')"
   ]
  },
  {
   "cell_type": "code",
   "execution_count": null,
   "metadata": {
    "collapsed": false
   },
   "outputs": [],
   "source": [
    "data_humans[11]['id']"
   ]
  },
  {
   "cell_type": "markdown",
   "metadata": {
    "collapsed": true
   },
   "source": [
    "{'rank': 'normal', 'references': [{'snaks-order': ['P248', 'P214', 'P813'], 'hash': '050ec907ff2d96e82eddea6ecfc54f12503b9f4c', 'snaks': {'P248': [{'datatype': 'wikibase-item', 'property': 'P248', 'snaktype': 'value', 'datavalue': {'type': 'wikibase-entityid', 'value': {'entity-type': 'item', 'numeric-id': 54919}}}], 'P813': [{'datatype': 'time', 'property': 'P813', 'snaktype': 'value', 'datavalue': {'type': 'time', 'value': {'timezone': 0, 'after': 0, 'time': '+2013-12-07T00:00:00Z', 'calendarmodel': 'http://www.wikidata.org/entity/Q1985727', 'before': 0, 'precision': 11}}}], 'P214': [{'datatype': 'external-id', 'property': 'P214', 'snaktype': 'value', 'datavalue': {'type': 'string', 'value': '113230702'}}]}}, {'snaks-order': ['P248', 'P813', 'P854'], 'hash': '84bf485417f064cf273f05ecbda447612eec7314', 'snaks': {'P248': [{'datatype': 'wikibase-item', 'property': 'P248', 'snaktype': 'value', 'datavalue': {'type': 'wikibase-entityid', 'value': {'entity-type': 'item', 'numeric-id': 20666306}}}], 'P854': [{'datatype': 'url', 'property': 'P854', 'snaktype': 'value', 'datavalue': {'type': 'string', 'value': 'http://data.bnf.fr/ark:/12148/cb11888092r'}}], 'P813': [{'datatype': 'time', 'property': 'P813', 'snaktype': 'value', 'datavalue': {'type': 'time', 'value': {'timezone': 0, 'after': 0, 'time': '+2015-10-10T00:00:00Z', 'calendarmodel': 'http://www.wikidata.org/entity/Q1985727', 'before': 0, 'precision': 11}}}]}}], 'type': 'statement', 'id': 'Q42$F078E5B3-F9A8-480E-B7AC-D97778CBBEF9', 'mainsnak': {'datatype': 'wikibase-item', 'property': 'P31', 'snaktype': 'value', 'datavalue': {'type': 'wikibase-entityid', 'value': {'entity-type': 'item', 'numeric-id': 5}}}}"
   ]
  },
  {
   "cell_type": "code",
   "execution_count": null,
   "metadata": {
    "collapsed": true
   },
   "outputs": [],
   "source": [
    "#import bz2\n",
    "\n",
    "#bz_file = bz2.BZ2File(\"latest-all.json.bz2\")\n",
    "#line_list = bz_file.readlines()"
   ]
  },
  {
   "cell_type": "code",
   "execution_count": null,
   "metadata": {
    "collapsed": true
   },
   "outputs": [],
   "source": [
    "#len(line_list)"
   ]
  },
  {
   "cell_type": "code",
   "execution_count": null,
   "metadata": {
    "collapsed": false
   },
   "outputs": [],
   "source": [
    "data[0]['claims'] ['P349'] [0].keys()"
   ]
  },
  {
   "cell_type": "code",
   "execution_count": null,
   "metadata": {
    "collapsed": false
   },
   "outputs": [],
   "source": [
    "print(data_humans[11]['claims']['P21'])\n",
    "non_wiki_ref(data_humans[11]['claims']['P21']) "
   ]
  }
 ],
 "metadata": {
  "kernelspec": {
   "display_name": "Python 3",
   "language": "python",
   "name": "python3"
  },
  "language_info": {
   "codemirror_mode": {
    "name": "ipython",
    "version": 3
   },
   "file_extension": ".py",
   "mimetype": "text/x-python",
   "name": "python",
   "nbconvert_exporter": "python",
   "pygments_lexer": "ipython3",
   "version": "3.5.0"
  }
 },
 "nbformat": 4,
 "nbformat_minor": 0
}
