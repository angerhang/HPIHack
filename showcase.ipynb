{
 "cells": [
  {
   "cell_type": "code",
   "execution_count": 53,
   "metadata": {
    "collapsed": false
   },
   "outputs": [
    {
     "name": "stdout",
     "output_type": "stream",
     "text": [
      "claims\n",
      "descriptions\n",
      "id\n",
      "aliases\n",
      "labels\n",
      "sitelinks\n",
      "type\n",
      "{'en': [{'value': 'Douglas Noël Adams', 'language': 'en'}, {'value': 'Douglas Noel Adams', 'language': 'en'}], 'nl': [{'value': 'Douglas Noel Adams', 'language': 'nl'}, {'value': 'Douglas Noël Adams', 'language': 'nl'}], 'pt-br': [{'value': 'Douglas Noël Adams', 'language': 'pt-br'}, {'value': 'Douglas Noel Adams', 'language': 'pt-br'}], 'el': [{'value': 'Ντάγκλας Νόελ Άνταμς', 'language': 'el'}], 'cs': [{'value': 'Douglas Noël Adams', 'language': 'cs'}, {'value': 'Douglas Noel Adams', 'language': 'cs'}], 'zh': [{'value': '亞當斯', 'language': 'zh'}], 'ja': [{'value': 'ダグラス・アダムス', 'language': 'ja'}], 'fr': [{'value': 'Douglas Noel Adams', 'language': 'fr'}, {'value': 'Douglas Noël Adams', 'language': 'fr'}], 'de': [{'value': 'Douglas Noël Adams', 'language': 'de'}, {'value': 'Douglas Noel Adams', 'language': 'de'}], 'be-tarask': [{'value': 'Дуглас Адамс', 'language': 'be-tarask'}], 'nb': [{'value': 'Douglas Noël Adams', 'language': 'nb'}], 'es': [{'value': 'Douglas Noel Adams', 'language': 'es'}, {'value': 'Douglas Noël Adams', 'language': 'es'}], 'hy': [{'value': 'Ադամս, Դուգլաս', 'language': 'hy'}], 'it': [{'value': 'Douglas Noel Adams', 'language': 'it'}], 'pt': [{'value': 'Douglas Noël Adams', 'language': 'pt'}, {'value': 'Douglas Noel Adams', 'language': 'pt'}], 'als': [{'value': 'Douglas Noel Adams', 'language': 'als'}], 'ru': [{'value': 'Адамс, Дуглас', 'language': 'ru'}]}\n"
     ]
    },
    {
     "data": {
      "text/plain": [
       "14"
      ]
     },
     "execution_count": 53,
     "metadata": {},
     "output_type": "execute_result"
    }
   ],
   "source": [
    "import json\n",
    "with open('latest-1000.json') as data_file:\n",
    "    data=json.load(data_file)\n",
    "\n",
    "for key in data[0]:\n",
    "    print(key)\n",
    "#for i in range(900):\n",
    "#    print(data[i]['type'])\n",
    "\n",
    "    \n",
    "    \n",
    "print(data[14]['aliases'])\n",
    "\n",
    "list((map(lambda i: i['id'],data))).index('Q42')"
   ]
  },
  {
   "cell_type": "code",
   "execution_count": 57,
   "metadata": {
    "collapsed": false
   },
   "outputs": [
    {
     "data": {
      "text/plain": [
       "[{'hash': 'a51d6594fee36c7452eaed2db35a4833613a7078',\n",
       "  'snaks': {'P143': [{'datatype': 'wikibase-item',\n",
       "     'datavalue': {'type': 'wikibase-entityid',\n",
       "      'value': {'entity-type': 'item', 'numeric-id': 54919}},\n",
       "     'property': 'P143',\n",
       "     'snaktype': 'value'}]},\n",
       "  'snaks-order': ['P143']}]"
      ]
     },
     "execution_count": 57,
     "metadata": {},
     "output_type": "execute_result"
    }
   ],
   "source": [
    "\n",
    "data[14]['claims']['P1005'][0] ['references']"
   ]
  },
  {
   "cell_type": "code",
   "execution_count": 122,
   "metadata": {
    "collapsed": false
   },
   "outputs": [
    {
     "data": {
      "text/plain": [
       "53"
      ]
     },
     "execution_count": 122,
     "metadata": {},
     "output_type": "execute_result"
    }
   ],
   "source": [
    "def count_references(claims):\n",
    "    property_list=[]\n",
    "    for p in claims:\n",
    "        for i in claims[p]:  \n",
    "            if 'references' in i:\n",
    "                property_list.append(p)\n",
    "    return property_list\n",
    "                \n",
    "len(count_references(data[14]['claims']))              \n",
    "#'references' in data[14]['claims'] ['P1005'] [0]  \n",
    "#data[14]['claims'] ['P1005'] [0] \n"
   ]
  },
  {
   "cell_type": "code",
   "execution_count": 116,
   "metadata": {
    "collapsed": false
   },
   "outputs": [
    {
     "data": {
      "text/plain": [
       "['P26',\n",
       " 'P998',\n",
       " 'P998',\n",
       " 'P998',\n",
       " 'P998',\n",
       " 'P998',\n",
       " 'P998',\n",
       " 'P1411',\n",
       " 'P1411',\n",
       " 'P551',\n",
       " 'P551',\n",
       " 'P69',\n",
       " 'P69']"
      ]
     },
     "execution_count": 116,
     "metadata": {},
     "output_type": "execute_result"
    }
   ],
   "source": [
    "def count_qualifers(claims):\n",
    "    l=[]\n",
    "    for p in claims:\n",
    "        \n",
    "        \n",
    "        for i in claims[p]:\n",
    "            if 'qualifiers' in i:\n",
    "                l.append(p)\n",
    "    return l\n",
    "count_qualifers(data[14]['claims']) \n",
    "#set(count_qualifers(data[14]['claims'])).intersection(count_references(data[14]['claims']))"
   ]
  },
  {
   "cell_type": "code",
   "execution_count": 114,
   "metadata": {
    "collapsed": false
   },
   "outputs": [
    {
     "data": {
      "text/plain": [
       "['en',\n",
       " 'id',\n",
       " 'ca',\n",
       " 'pt-br',\n",
       " 'pl',\n",
       " 'sv',\n",
       " 'ml',\n",
       " 'nl',\n",
       " 'de',\n",
       " 'lt',\n",
       " 'hr',\n",
       " 'bg',\n",
       " 'it',\n",
       " 'ru',\n",
       " 'fa',\n",
       " 'nds',\n",
       " 'eo',\n",
       " 'cs',\n",
       " 'te',\n",
       " 'fr',\n",
       " 'pt',\n",
       " 'scn',\n",
       " 'es',\n",
       " 'hu',\n",
       " 'fi',\n",
       " 'ilo',\n",
       " 'ta',\n",
       " 'sr']"
      ]
     },
     "execution_count": 114,
     "metadata": {},
     "output_type": "execute_result"
    }
   ],
   "source": [
    "def alias(data):\n",
    "    return list(data['aliases'].keys())\n",
    "     \n",
    "\n",
    "alias(data[0])  "
   ]
  },
  {
   "cell_type": "code",
   "execution_count": 121,
   "metadata": {
    "collapsed": false
   },
   "outputs": [
    {
     "name": "stdout",
     "output_type": "stream",
     "text": [
      "13\n",
      "53 17\n"
     ]
    },
    {
     "data": {
      "text/plain": [
       "83"
      ]
     },
     "execution_count": 121,
     "metadata": {},
     "output_type": "execute_result"
    }
   ],
   "source": [
    "def score_item(item):\n",
    "    qualifiers=count_qualifers(item['claims'])\n",
    "    references=count_references(item['claims'])\n",
    "    aliases=alias(item)\n",
    "    print(len(qualifiers))\n",
    "    print(len(references),len(aliases))\n",
    "    return len(qualifiers + references + aliases)\n",
    "score_item(data[14])"
   ]
  },
  {
   "cell_type": "code",
   "execution_count": null,
   "metadata": {
    "collapsed": true
   },
   "outputs": [],
   "source": [
    "#levenshtein distance"
   ]
  },
  {
   "cell_type": "code",
   "execution_count": null,
   "metadata": {
    "collapsed": true
   },
   "outputs": [],
   "source": [
    "#import bz2\n",
    "\n",
    "#bz_file = bz2.BZ2File(\"latest-all.json.bz2\")\n",
    "#line_list = bz_file.readlines()"
   ]
  },
  {
   "cell_type": "code",
   "execution_count": null,
   "metadata": {
    "collapsed": true
   },
   "outputs": [],
   "source": [
    "#len(line_list)"
   ]
  },
  {
   "cell_type": "code",
   "execution_count": null,
   "metadata": {
    "collapsed": true
   },
   "outputs": [],
   "source": []
  }
 ],
 "metadata": {
  "kernelspec": {
   "display_name": "Python 3",
   "language": "python",
   "name": "python3"
  },
  "language_info": {
   "codemirror_mode": {
    "name": "ipython",
    "version": 3
   },
   "file_extension": ".py",
   "mimetype": "text/x-python",
   "name": "python",
   "nbconvert_exporter": "python",
   "pygments_lexer": "ipython3",
   "version": "3.5.0"
  }
 },
 "nbformat": 4,
 "nbformat_minor": 0
}
