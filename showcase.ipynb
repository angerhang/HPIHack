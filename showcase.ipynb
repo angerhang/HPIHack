{
 "cells": [
  {
   "cell_type": "code",
   "execution_count": 1,
   "metadata": {
    "collapsed": false
   },
   "outputs": [
    {
     "name": "stdout",
     "output_type": "stream",
     "text": [
      "labels\n",
      "aliases\n",
      "id\n",
      "descriptions\n",
      "claims\n",
      "sitelinks\n",
      "type\n",
      "{'hy': [{'language': 'hy', 'value': 'Ադամս, Դուգլաս'}], 'fr': [{'language': 'fr', 'value': 'Douglas Noel Adams'}, {'language': 'fr', 'value': 'Douglas Noël Adams'}], 'pt': [{'language': 'pt', 'value': 'Douglas Noël Adams'}, {'language': 'pt', 'value': 'Douglas Noel Adams'}], 'ru': [{'language': 'ru', 'value': 'Адамс, Дуглас'}], 'zh': [{'language': 'zh', 'value': '亞當斯'}], 'ja': [{'language': 'ja', 'value': 'ダグラス・アダムス'}], 'nb': [{'language': 'nb', 'value': 'Douglas Noël Adams'}], 'be-tarask': [{'language': 'be-tarask', 'value': 'Дуглас Адамс'}], 'el': [{'language': 'el', 'value': 'Ντάγκλας Νόελ Άνταμς'}], 'it': [{'language': 'it', 'value': 'Douglas Noel Adams'}], 'als': [{'language': 'als', 'value': 'Douglas Noel Adams'}], 'es': [{'language': 'es', 'value': 'Douglas Noel Adams'}, {'language': 'es', 'value': 'Douglas Noël Adams'}], 'pt-br': [{'language': 'pt-br', 'value': 'Douglas Noël Adams'}, {'language': 'pt-br', 'value': 'Douglas Noel Adams'}], 'de': [{'language': 'de', 'value': 'Douglas Noël Adams'}, {'language': 'de', 'value': 'Douglas Noel Adams'}], 'nl': [{'language': 'nl', 'value': 'Douglas Noel Adams'}, {'language': 'nl', 'value': 'Douglas Noël Adams'}], 'cs': [{'language': 'cs', 'value': 'Douglas Noël Adams'}, {'language': 'cs', 'value': 'Douglas Noel Adams'}], 'en': [{'language': 'en', 'value': 'Douglas Noël Adams'}, {'language': 'en', 'value': 'Douglas Noel Adams'}]}\n"
     ]
    },
    {
     "data": {
      "text/plain": [
       "14"
      ]
     },
     "execution_count": 1,
     "metadata": {},
     "output_type": "execute_result"
    }
   ],
   "source": [
    "import json\n",
    "with open('../latest-1000.json') as data_file:\n",
    "    data=json.load(data_file)\n",
    "\n",
    "for key in data[0]:\n",
    "    print(key)\n",
    "#for i in range(900):\n",
    "#    print(data[i]['type'])\n",
    "\n",
    "    \n",
    "    \n",
    "print(data[14]['aliases'])\n",
    "\n",
    "list((map(lambda i: i['id'],data))).index('Q42')"
   ]
  },
  {
   "cell_type": "code",
   "execution_count": 2,
   "metadata": {
    "collapsed": false
   },
   "outputs": [
    {
     "data": {
      "text/plain": [
       "[{'hash': 'a51d6594fee36c7452eaed2db35a4833613a7078',\n",
       "  'snaks': {'P143': [{'datatype': 'wikibase-item',\n",
       "     'datavalue': {'type': 'wikibase-entityid',\n",
       "      'value': {'entity-type': 'item', 'numeric-id': 54919}},\n",
       "     'property': 'P143',\n",
       "     'snaktype': 'value'}]},\n",
       "  'snaks-order': ['P143']}]"
      ]
     },
     "execution_count": 2,
     "metadata": {},
     "output_type": "execute_result"
    }
   ],
   "source": [
    "\n",
    "data[14]['claims']['P1005'][0] ['references']"
   ]
  },
  {
   "cell_type": "code",
   "execution_count": null,
   "metadata": {
    "collapsed": true
   },
   "outputs": [],
   "source": []
  },
  {
   "cell_type": "code",
   "execution_count": 3,
   "metadata": {
    "collapsed": false
   },
   "outputs": [
    {
     "data": {
      "text/plain": [
       "53"
      ]
     },
     "execution_count": 3,
     "metadata": {},
     "output_type": "execute_result"
    }
   ],
   "source": [
    "def count_references(claims):\n",
    "    property_list=[]\n",
    "    for p in claims:\n",
    "        for i in claims[p]:  \n",
    "            if 'references' in i:\n",
    "                property_list.append(p)\n",
    "    return property_list\n",
    "                \n",
    "len(count_references(data[14]['claims']))              \n",
    "#'references' in data[14]['claims'] ['P1005'] [0]  \n",
    "#data[14]['claims'] ['P1005'] [0] \n"
   ]
  },
  {
   "cell_type": "code",
   "execution_count": 4,
   "metadata": {
    "collapsed": false
   },
   "outputs": [
    {
     "data": {
      "text/plain": [
       "['P998',\n",
       " 'P998',\n",
       " 'P998',\n",
       " 'P998',\n",
       " 'P998',\n",
       " 'P998',\n",
       " 'P1411',\n",
       " 'P1411',\n",
       " 'P69',\n",
       " 'P69',\n",
       " 'P26',\n",
       " 'P551',\n",
       " 'P551']"
      ]
     },
     "execution_count": 4,
     "metadata": {},
     "output_type": "execute_result"
    }
   ],
   "source": [
    "def count_qualifers(claims):\n",
    "    l=[]\n",
    "    for p in claims:\n",
    "        \n",
    "        \n",
    "        for i in claims[p]:\n",
    "            if 'qualifiers' in i:\n",
    "                l.append(p)\n",
    "    return l\n",
    "count_qualifers(data[14]['claims']) \n",
    "#set(count_qualifers(data[14]['claims'])).intersection(count_references(data[14]['claims']))"
   ]
  },
  {
   "cell_type": "code",
   "execution_count": 5,
   "metadata": {
    "collapsed": false
   },
   "outputs": [
    {
     "data": {
      "text/plain": [
       "['ca',\n",
       " 'fa',\n",
       " 'te',\n",
       " 'sv',\n",
       " 'ml',\n",
       " 'it',\n",
       " 'nds',\n",
       " 'sr',\n",
       " 'eo',\n",
       " 'ilo',\n",
       " 'nl',\n",
       " 'en',\n",
       " 'hr',\n",
       " 'ta',\n",
       " 'fr',\n",
       " 'pt',\n",
       " 'ru',\n",
       " 'fi',\n",
       " 'de',\n",
       " 'lt',\n",
       " 'es',\n",
       " 'pl',\n",
       " 'scn',\n",
       " 'pt-br',\n",
       " 'hu',\n",
       " 'bg',\n",
       " 'cs',\n",
       " 'id']"
      ]
     },
     "execution_count": 5,
     "metadata": {},
     "output_type": "execute_result"
    }
   ],
   "source": [
    "def alias(data):\n",
    "    return list(data['aliases'].keys())\n",
    "     \n",
    "\n",
    "alias(data[0])  "
   ]
  },
  {
   "cell_type": "code",
   "execution_count": 64,
   "metadata": {
    "collapsed": false
   },
   "outputs": [
    {
     "name": "stdout",
     "output_type": "stream",
     "text": [
      "<class 'list'>\n",
      "<class 'list'>\n",
      "101\n"
     ]
    }
   ],
   "source": [
    "import operator\n",
    "def score_item(item):\n",
    "    qualifiers=count_qualifers(item['claims'])\n",
    "    references=count_references(item['claims'])\n",
    "    aliases=alias(item)\n",
    "    return len(qualifiers + references + aliases)\n",
    "\n",
    "def score_dataset(data):\n",
    "    result={d['id']:score_item(d) for d in data if d['type']=='item'}\n",
    "    max_score = max(result[k] for k in result)\n",
    "    return {k: result[k]/max_score for k in result}\n",
    "\n",
    "normalized_result = score_dataset(data)\n",
    "#print [d for d in data if data[d]['claims']['instanceof']=='human')]\n",
    "data_humans=[]\n",
    "print(type(data))\n",
    "print(type(data_humans))\n",
    "for d in range(len(data)):\n",
    "    HUMAN=5\n",
    "    for c in list(data[d]['claims'].keys()):\n",
    "        if (c=='P31'):\n",
    "            number=data[d]['claims']['P31'][0]['mainsnak']['datavalue']['value']['numeric-id']\n",
    "    \n",
    "            if (number==HUMAN):\n",
    "                data_humans.append(data[d])\n",
    "print(len(data_humans))        \n",
    "       \n",
    "    \n",
    "#print(data[14]['claims']['P31'][0]['mainsnak']['datavalue']['numeric-id'])\n",
    "#for i in data[14]['claims']['P31'][0]['type'].keys():\n",
    "    #if i['id']=='Q5':\n",
    "\n",
    "#print(normalized_result['Q42'])\n",
    "sorted_ranking = sorted(normalized_result.items(), reverse=True, key=operator.itemgetter(1))\n",
    "#print(sorted_ranking)"
   ]
  },
  {
   "cell_type": "code",
   "execution_count": 66,
   "metadata": {
    "collapsed": false
   },
   "outputs": [
    {
     "data": {
      "text/plain": [
       "{'Q1056': 0.16363636363636364,\n",
       " 'Q1058': 0.20909090909090908,\n",
       " 'Q1124': 0.5,\n",
       " 'Q1149': 0.39090909090909093,\n",
       " 'Q1151': 0.35454545454545455,\n",
       " 'Q1224': 0.4,\n",
       " 'Q1228': 0.19090909090909092,\n",
       " 'Q1235': 0.23636363636363636,\n",
       " 'Q1253': 0.20909090909090908,\n",
       " 'Q1254': 0.36363636363636365,\n",
       " 'Q1257': 0.2,\n",
       " 'Q1267': 0.23636363636363636,\n",
       " 'Q1276': 0.6727272727272727,\n",
       " 'Q1317': 0.3090909090909091,\n",
       " 'Q1319': 0.1,\n",
       " 'Q1320': 0.10909090909090909,\n",
       " 'Q1325': 0.2727272727272727,\n",
       " 'Q1330': 0.16363636363636364,\n",
       " 'Q1339': 0.6909090909090909,\n",
       " 'Q1381': 0.12727272727272726,\n",
       " 'Q1398': 0.4090909090909091,\n",
       " 'Q1405': 0.41818181818181815,\n",
       " 'Q1416': 0.20909090909090908,\n",
       " 'Q1421': 0.2909090909090909,\n",
       " 'Q1427': 0.2636363636363636,\n",
       " 'Q1446': 0.3,\n",
       " 'Q1463': 0.4090909090909091,\n",
       " 'Q1464': 0.18181818181818182,\n",
       " 'Q1488': 0.2545454545454545,\n",
       " 'Q1500': 0.23636363636363636,\n",
       " 'Q1503': 0.33636363636363636,\n",
       " 'Q1511': 0.5454545454545454,\n",
       " 'Q1526': 0.13636363636363635,\n",
       " 'Q1528': 0.17272727272727273,\n",
       " 'Q1638': 0.19090909090909092,\n",
       " 'Q1646': 0.3181818181818182,\n",
       " 'Q1672': 0.10909090909090909,\n",
       " 'Q1681': 0.12727272727272726,\n",
       " 'Q1691': 0.09090909090909091,\n",
       " 'Q1712': 0.09090909090909091,\n",
       " 'Q1738': 0.14545454545454545,\n",
       " 'Q1747': 0.09090909090909091,\n",
       " 'Q1753': 0.1,\n",
       " 'Q1755': 0.10909090909090909,\n",
       " 'Q1789': 0.11818181818181818,\n",
       " 'Q1802': 0.17272727272727273,\n",
       " 'Q1804': 0.23636363636363636,\n",
       " 'Q1812': 0.2,\n",
       " 'Q1817': 0.21818181818181817,\n",
       " 'Q1835': 0.4090909090909091,\n",
       " 'Q1839': 0.39090909090909093,\n",
       " 'Q1868': 0.21818181818181817,\n",
       " 'Q1878': 0.16363636363636364,\n",
       " 'Q1885': 0.23636363636363636,\n",
       " 'Q1911': 0.2727272727272727,\n",
       " 'Q1918': 0.32727272727272727,\n",
       " 'Q1925': 0.33636363636363636,\n",
       " 'Q1928': 0.43636363636363634,\n",
       " 'Q1934': 0.2818181818181818,\n",
       " 'Q1936': 0.509090909090909,\n",
       " 'Q1938': 0.2545454545454545,\n",
       " 'Q1939': 0.42727272727272725,\n",
       " 'Q1940': 0.2545454545454545,\n",
       " 'Q1956': 0.18181818181818182,\n",
       " 'Q1962': 0.12727272727272726,\n",
       " 'Q2006': 0.08181818181818182,\n",
       " 'Q207': 0.5545454545454546,\n",
       " 'Q2104': 0.14545454545454545,\n",
       " 'Q2105': 0.4,\n",
       " 'Q2125': 0.2727272727272727,\n",
       " 'Q2129': 0.21818181818181817,\n",
       " 'Q2153': 0.21818181818181817,\n",
       " 'Q2185': 0.32727272727272727,\n",
       " 'Q2190': 0.2909090909090909,\n",
       " 'Q23': 0.5636363636363636,\n",
       " 'Q2327': 0.08181818181818182,\n",
       " 'Q297': 0.5181818181818182,\n",
       " 'Q326': 0.22727272727272727,\n",
       " 'Q368': 0.2818181818181818,\n",
       " 'Q377': 0.34545454545454546,\n",
       " 'Q42': 0.7545454545454545,\n",
       " 'Q475': 0.24545454545454545,\n",
       " 'Q501': 0.4090909090909091,\n",
       " 'Q530': 0.18181818181818182,\n",
       " 'Q555': 0.19090909090909092,\n",
       " 'Q619': 0.5272727272727272,\n",
       " 'Q633': 0.9454545454545454,\n",
       " 'Q635': 0.3,\n",
       " 'Q747': 0.2545454545454545,\n",
       " 'Q815': 0.16363636363636364,\n",
       " 'Q849': 0.2909090909090909,\n",
       " 'Q853': 0.2818181818181818,\n",
       " 'Q859': 0.3,\n",
       " 'Q873': 0.8,\n",
       " 'Q905': 0.43636363636363634,\n",
       " 'Q909': 0.6090909090909091,\n",
       " 'Q920': 0.33636363636363636,\n",
       " 'Q926': 0.33636363636363636,\n",
       " 'Q937': 1.0,\n",
       " 'Q946': 0.5909090909090909,\n",
       " 'Q997': 0.3}"
      ]
     },
     "execution_count": 66,
     "metadata": {},
     "output_type": "execute_result"
    }
   ],
   "source": [
    "score_dataset(data_humans)\n",
    "    "
   ]
  },
  {
   "cell_type": "code",
   "execution_count": null,
   "metadata": {
    "collapsed": true
   },
   "outputs": [],
   "source": []
  },
  {
   "cell_type": "markdown",
   "metadata": {
    "collapsed": true
   },
   "source": [
    "{'rank': 'normal', 'references': [{'snaks-order': ['P248', 'P214', 'P813'], 'hash': '050ec907ff2d96e82eddea6ecfc54f12503b9f4c', 'snaks': {'P248': [{'datatype': 'wikibase-item', 'property': 'P248', 'snaktype': 'value', 'datavalue': {'type': 'wikibase-entityid', 'value': {'entity-type': 'item', 'numeric-id': 54919}}}], 'P813': [{'datatype': 'time', 'property': 'P813', 'snaktype': 'value', 'datavalue': {'type': 'time', 'value': {'timezone': 0, 'after': 0, 'time': '+2013-12-07T00:00:00Z', 'calendarmodel': 'http://www.wikidata.org/entity/Q1985727', 'before': 0, 'precision': 11}}}], 'P214': [{'datatype': 'external-id', 'property': 'P214', 'snaktype': 'value', 'datavalue': {'type': 'string', 'value': '113230702'}}]}}, {'snaks-order': ['P248', 'P813', 'P854'], 'hash': '84bf485417f064cf273f05ecbda447612eec7314', 'snaks': {'P248': [{'datatype': 'wikibase-item', 'property': 'P248', 'snaktype': 'value', 'datavalue': {'type': 'wikibase-entityid', 'value': {'entity-type': 'item', 'numeric-id': 20666306}}}], 'P854': [{'datatype': 'url', 'property': 'P854', 'snaktype': 'value', 'datavalue': {'type': 'string', 'value': 'http://data.bnf.fr/ark:/12148/cb11888092r'}}], 'P813': [{'datatype': 'time', 'property': 'P813', 'snaktype': 'value', 'datavalue': {'type': 'time', 'value': {'timezone': 0, 'after': 0, 'time': '+2015-10-10T00:00:00Z', 'calendarmodel': 'http://www.wikidata.org/entity/Q1985727', 'before': 0, 'precision': 11}}}]}}], 'type': 'statement', 'id': 'Q42$F078E5B3-F9A8-480E-B7AC-D97778CBBEF9', 'mainsnak': {'datatype': 'wikibase-item', 'property': 'P31', 'snaktype': 'value', 'datavalue': {'type': 'wikibase-entityid', 'value': {'entity-type': 'item', 'numeric-id': 5}}}}"
   ]
  },
  {
   "cell_type": "code",
   "execution_count": 8,
   "metadata": {
    "collapsed": true
   },
   "outputs": [],
   "source": [
    "#import bz2\n",
    "\n",
    "#bz_file = bz2.BZ2File(\"latest-all.json.bz2\")\n",
    "#line_list = bz_file.readlines()"
   ]
  },
  {
   "cell_type": "code",
   "execution_count": 9,
   "metadata": {
    "collapsed": true
   },
   "outputs": [],
   "source": [
    "#len(line_list)"
   ]
  },
  {
   "cell_type": "code",
   "execution_count": null,
   "metadata": {
    "collapsed": true
   },
   "outputs": [],
   "source": []
  }
 ],
 "metadata": {
  "kernelspec": {
   "display_name": "Python 3",
   "language": "python",
   "name": "python3"
  },
  "language_info": {
   "codemirror_mode": {
    "name": "ipython",
    "version": 3
   },
   "file_extension": ".py",
   "mimetype": "text/x-python",
   "name": "python",
   "nbconvert_exporter": "python",
   "pygments_lexer": "ipython3",
   "version": "3.5.0"
  }
 },
 "nbformat": 4,
 "nbformat_minor": 0
}
