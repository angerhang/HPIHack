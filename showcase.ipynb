{
 "cells": [
  {
   "cell_type": "code",
   "execution_count": 53,
   "metadata": {
    "collapsed": false
   },
   "outputs": [
    {
     "name": "stdout",
     "output_type": "stream",
     "text": [
      "claims\n",
      "descriptions\n",
      "id\n",
      "aliases\n",
      "labels\n",
      "sitelinks\n",
      "type\n",
      "{'en': [{'value': 'Douglas Noël Adams', 'language': 'en'}, {'value': 'Douglas Noel Adams', 'language': 'en'}], 'nl': [{'value': 'Douglas Noel Adams', 'language': 'nl'}, {'value': 'Douglas Noël Adams', 'language': 'nl'}], 'pt-br': [{'value': 'Douglas Noël Adams', 'language': 'pt-br'}, {'value': 'Douglas Noel Adams', 'language': 'pt-br'}], 'el': [{'value': 'Ντάγκλας Νόελ Άνταμς', 'language': 'el'}], 'cs': [{'value': 'Douglas Noël Adams', 'language': 'cs'}, {'value': 'Douglas Noel Adams', 'language': 'cs'}], 'zh': [{'value': '亞當斯', 'language': 'zh'}], 'ja': [{'value': 'ダグラス・アダムス', 'language': 'ja'}], 'fr': [{'value': 'Douglas Noel Adams', 'language': 'fr'}, {'value': 'Douglas Noël Adams', 'language': 'fr'}], 'de': [{'value': 'Douglas Noël Adams', 'language': 'de'}, {'value': 'Douglas Noel Adams', 'language': 'de'}], 'be-tarask': [{'value': 'Дуглас Адамс', 'language': 'be-tarask'}], 'nb': [{'value': 'Douglas Noël Adams', 'language': 'nb'}], 'es': [{'value': 'Douglas Noel Adams', 'language': 'es'}, {'value': 'Douglas Noël Adams', 'language': 'es'}], 'hy': [{'value': 'Ադամս, Դուգլաս', 'language': 'hy'}], 'it': [{'value': 'Douglas Noel Adams', 'language': 'it'}], 'pt': [{'value': 'Douglas Noël Adams', 'language': 'pt'}, {'value': 'Douglas Noel Adams', 'language': 'pt'}], 'als': [{'value': 'Douglas Noel Adams', 'language': 'als'}], 'ru': [{'value': 'Адамс, Дуглас', 'language': 'ru'}]}\n"
     ]
    },
    {
     "data": {
      "text/plain": [
       "14"
      ]
     },
     "execution_count": 53,
     "metadata": {},
     "output_type": "execute_result"
    }
   ],
   "source": [
    "import json\n",
    "with open('latest-1000.json') as data_file:\n",
    "    data=json.load(data_file)\n",
    "\n",
    "for key in data[0]:\n",
    "    print(key)\n",
    "#for i in range(900):\n",
    "#    print(data[i]['type'])\n",
    "\n",
    "    \n",
    "    \n",
    "print(data[14]['aliases'])\n",
    "\n",
    "list((map(lambda i: i['id'],data))).index('Q42')"
   ]
  },
  {
   "cell_type": "code",
   "execution_count": 57,
   "metadata": {
    "collapsed": false
   },
   "outputs": [
    {
     "data": {
      "text/plain": [
       "[{'hash': 'a51d6594fee36c7452eaed2db35a4833613a7078',\n",
       "  'snaks': {'P143': [{'datatype': 'wikibase-item',\n",
       "     'datavalue': {'type': 'wikibase-entityid',\n",
       "      'value': {'entity-type': 'item', 'numeric-id': 54919}},\n",
       "     'property': 'P143',\n",
       "     'snaktype': 'value'}]},\n",
       "  'snaks-order': ['P143']}]"
      ]
     },
     "execution_count": 57,
     "metadata": {},
     "output_type": "execute_result"
    }
   ],
   "source": [
    "\n",
    "data[14]['claims']['P1005'][0] ['references']"
   ]
  },
  {
   "cell_type": "code",
   "execution_count": null,
   "metadata": {
    "collapsed": true
   },
   "outputs": [],
   "source": []
  },
  {
   "cell_type": "code",
   "execution_count": 122,
   "metadata": {
    "collapsed": false
   },
   "outputs": [
    {
     "data": {
      "text/plain": [
       "53"
      ]
     },
     "execution_count": 122,
     "metadata": {},
     "output_type": "execute_result"
    }
   ],
   "source": [
    "def count_references(claims):\n",
    "    property_list=[]\n",
    "    for p in claims:\n",
    "        for i in claims[p]:  \n",
    "            if 'references' in i:\n",
    "                property_list.append(p)\n",
    "    return property_list\n",
    "                \n",
    "len(count_references(data[14]['claims']))              \n",
    "#'references' in data[14]['claims'] ['P1005'] [0]  \n",
    "#data[14]['claims'] ['P1005'] [0] \n"
   ]
  },
  {
   "cell_type": "code",
   "execution_count": 116,
   "metadata": {
    "collapsed": false
   },
   "outputs": [
    {
     "data": {
      "text/plain": [
       "['P26',\n",
       " 'P998',\n",
       " 'P998',\n",
       " 'P998',\n",
       " 'P998',\n",
       " 'P998',\n",
       " 'P998',\n",
       " 'P1411',\n",
       " 'P1411',\n",
       " 'P551',\n",
       " 'P551',\n",
       " 'P69',\n",
       " 'P69']"
      ]
     },
     "execution_count": 116,
     "metadata": {},
     "output_type": "execute_result"
    }
   ],
   "source": [
    "def count_qualifers(claims):\n",
    "    l=[]\n",
    "    for p in claims:\n",
    "        \n",
    "        \n",
    "        for i in claims[p]:\n",
    "            if 'qualifiers' in i:\n",
    "                l.append(p)\n",
    "    return l\n",
    "count_qualifers(data[14]['claims']) \n",
    "#set(count_qualifers(data[14]['claims'])).intersection(count_references(data[14]['claims']))"
   ]
  },
  {
   "cell_type": "code",
   "execution_count": 114,
   "metadata": {
    "collapsed": false
   },
   "outputs": [
    {
     "data": {
      "text/plain": [
       "['en',\n",
       " 'id',\n",
       " 'ca',\n",
       " 'pt-br',\n",
       " 'pl',\n",
       " 'sv',\n",
       " 'ml',\n",
       " 'nl',\n",
       " 'de',\n",
       " 'lt',\n",
       " 'hr',\n",
       " 'bg',\n",
       " 'it',\n",
       " 'ru',\n",
       " 'fa',\n",
       " 'nds',\n",
       " 'eo',\n",
       " 'cs',\n",
       " 'te',\n",
       " 'fr',\n",
       " 'pt',\n",
       " 'scn',\n",
       " 'es',\n",
       " 'hu',\n",
       " 'fi',\n",
       " 'ilo',\n",
       " 'ta',\n",
       " 'sr']"
      ]
     },
     "execution_count": 114,
     "metadata": {},
     "output_type": "execute_result"
    }
   ],
   "source": [
    "def alias(data):\n",
    "    return list(data['aliases'].keys())\n",
    "     \n",
    "\n",
    "alias(data[0])  "
   ]
  },
  {
   "cell_type": "code",
   "execution_count": 126,
   "metadata": {
    "collapsed": false
   },
   "outputs": [
    {
     "name": "stdout",
     "output_type": "stream",
     "text": [
      "{'Q2060': 7, 'Q1511': 60, 'Q1710': 13, 'Q1724': 25, 'Q895': 18, 'Q2137': 19, 'Q197': 11, 'Q2335': 9, 'Q367': 10, 'Q1802': 19, 'Q2300': 8, 'Q2243': 10, 'Q1832': 21, 'Q659': 19, 'Q1520': 22, 'Q2173': 5, 'Q2070': 7, 'Q1258': 16, 'Q1688': 18, 'Q475': 27, 'Q1172': 8, 'Q1499': 12, 'Q2154': 5, 'Q1996': 6, 'Q371': 12, 'Q1359': 18, 'Q524': 11, 'Q1939': 47, 'Q2006': 9, 'Q58': 21, 'Q2153': 24, 'Q1320': 12, 'Q436': 10, 'Q218': 208, 'Q1216': 26, 'Q2048': 5, 'Q8': 20, 'Q1755': 12, 'Q722': 25, 'Q751': 19, 'Q45': 195, 'Q1108': 22, 'Q1976': 22, 'Q1441': 1, 'Q610': 10, 'Q1753': 11, 'Q1812': 22, 'Q317': 5, 'Q844': 21, 'Q2230': 11, 'Q1972': 2, 'Q597': 41, 'Q1405': 46, 'Q1488': 28, 'Q770': 16, 'Q1506': 6, 'Q2276': 9, 'Q2081': 20, 'Q1946': 4, 'Q1815': 4, 'Q856': 7, 'Q178': 18, 'Q1901': 11, 'Q619': 58, 'Q1107': 10, 'Q1297': 41, 'Q217': 69, 'Q1267': 26, 'Q2110': 17, 'Q1463': 45, 'Q419': 163, 'Q1026': 6, 'Q349': 11, 'Q951': 3, 'Q431': 9, 'Q977': 152, 'Q2191': 25, 'Q2080': 5, 'Q511': 12, 'Q815': 18, 'Q891': 51, 'Q1533': 17, 'Q1253': 23, 'Q2129': 24, 'Q177': 7, 'Q1100': 36, 'Q616': 2, 'Q391': 5, 'Q905': 48, 'Q737': 16, 'Q880': 33, 'Q2029': 1, 'Q2019': 7, 'Q1235': 26, 'Q1396': 22, 'Q586': 51, 'Q2260': 9, 'Q2074': 11, 'Q1746': 11, 'Q1962': 14, 'Q861': 23, 'Q544': 6, 'Q1564': 6, 'Q284': 7, 'Q1376': 15, 'Q1583': 8, 'Q764': 27, 'Q1757': 80, 'Q757': 141, 'Q2264': 9, 'Q937': 110, 'Q1049': 56, 'Q332': 34, 'Q1948': 34, 'Q634': 8, 'Q2192': 11, 'Q1747': 10, 'Q1052': 7, 'Q571': 16, 'Q323': 16, 'Q685': 145, 'Q1834': 6, 'Q1276': 74, 'Q2119': 159, 'Q772': 17, 'Q1649': 28, 'Q2165': 5, 'Q1627': 10, 'Q916': 157, 'Q701': 17, 'Q2236': 9, 'Q1925': 37, 'Q228': 178, 'Q2065': 7, 'Q183': 643, 'Q859': 33, 'Q1721': 53, 'Q2327': 9, 'Q1293': 5, 'Q2185': 36, 'Q1987': 7, 'Q403': 96, 'Q140': 38, 'Q635': 33, 'Q1718': 73, 'Q946': 65, 'Q1056': 18, 'Q1471': 18, 'Q2134': 3, 'Q1372': 10, 'Q647': 94, 'Q1201': 25, 'Q1709': 62, 'Q1868': 24, 'Q826': 168, 'Q1526': 15, 'Q1814': 4, 'Q1609': 4, 'Q1503': 37, 'Q1513': 5, 'Q1301': 13, 'Q1152': 13, 'Q2032': 8, 'Q2293': 40, 'Q899': 14, 'Q595': 47, 'Q957': 1, 'Q1956': 20, 'Q359': 15, 'Q538': 12, 'Q494': 14, 'Q982': 1, 'Q1229': 30, 'Q1500': 26, 'Q1738': 16, 'Q978': 7, 'Q910': 0, 'Q281': 9, 'Q716': 22, 'Q1596': 9, 'Q1486': 115, 'Q1363': 12, 'Q1151': 39, 'Q648': 29, 'Q746': 3, 'Q1277': 8, 'Q1254': 40, 'Q2016': 7, 'Q584': 11, 'Q1156': 34, 'Q327': 9, 'Q1281': 11, 'Q873': 88, 'Q2041': 2, 'Q495': 53, 'Q2334': 9, 'Q1835': 45, 'Q1636': 14, 'Q2009': 29, 'Q869': 172, 'Q1504': 9, 'Q1624': 13, 'Q969': 5, 'Q570': 8, 'Q1257': 22, 'Q1928': 48, 'Q726': 27, 'Q2222': 29, 'Q2062': 7, 'Q1547': 11, 'Q1706': 12, 'Q202': 28, 'Q2214': 26, 'Q1181': 6, 'Q1521': 15, 'Q1817': 24, 'Q1837': 5, 'Q1672': 12, 'Q33': 212, 'Q68': 32, 'Q1381': 14, 'Q500': 27, 'Q876': 43, 'Q2132': 18, 'Q961': 11, 'Q1971': 7, 'Q1525': 6, 'Q1247': 11, 'Q293': 7, 'Q2205': 13, 'Q1807': 7, 'Q1269': 5, 'Q1136': 8, 'Q1599': 10, 'Q277': 6, 'Q369': 6, 'Q565': 20, 'Q1398': 45, 'Q2220': 18, 'Q24': 3, 'Q1455': 7, 'Q771': 43, 'Q2025': 50, 'Q1375': 9, 'Q966': 2, 'Q1878': 18, 'Q1014': 153, 'Q676': 7, 'Q147': 6, 'Q1641': 4, 'Q1': 37, 'Q683': 153, 'Q643': 45, 'Q2149': 1, 'Q1569': 5, 'Q1574': 8, 'Q2057': 6, 'Q2319': 8, 'Q555': 21, 'Q1607': 10, 'Q288': 25, 'Q2190': 32, 'Q257': 10, 'Q1522': 42, 'Q1224': 44, 'Q1044': 160, 'Q2241': 9, 'Q2109': 16, 'Q2207': 13, 'Q1764': 88, 'Q125': 33, 'Q1025': 151, 'Q661': 6, 'Q1421': 32, 'Q31': 249, 'Q377': 38, 'Q1374': 12, 'Q2114': 15, 'Q950': 12, 'Q1820': 10, 'Q587': 9, 'Q2301': 8, 'Q1681': 14, 'Q968': 14, 'Q686': 153, 'Q1528': 19, 'Q1397': 27, 'Q100': 35, 'Q1232': 13, 'Q952': 24, 'Q62': 64, 'Q2036': 3, 'Q291': 11, 'Q666': 13, 'Q735': 7, 'Q412': 6, 'Q2011': 7, 'Q216': 46, 'Q1860': 45, 'Q1341': 46, 'Q1804': 26, 'Q763': 142, 'Q1851': 24, 'Q853': 31, 'Q847': 14, 'Q943': 14, 'Q545': 14, 'Q997': 33, 'Q777': 19, 'Q870': 10, 'Q1141': 6, 'Q156': 11, 'Q878': 161, 'Q1270': 9, 'Q2281': 13, 'Q2151': 10, 'Q2142': 9, 'Q883': 33, 'Q136': 13, 'Q2282': 9, 'Q1616': 9, 'Q1644': 46, 'Q1099': 35, 'Q894': 28, 'Q633': 104, 'Q1914': 30, 'Q1183': 133, 'Q550': 68, 'Q920': 37, 'Q744': 42, 'Q1358': 22, 'Q1317': 34, 'Q909': 67, 'Q903': 4, 'Q1938': 28, 'Q1251': 8, 'Q1839': 43, 'Q694': 20, 'Q398': 154, 'Q244': 152, 'Q1494': 24, 'Q514': 6, 'Q1871': 3, 'Q530': 20, 'Q1936': 56, 'Q362': 38, 'Q749': 30, 'Q1464': 20, 'Q917': 169, 'Q1638': 21, 'Q129': 11, 'Q973': 24, 'Q1146': 12, 'Q443': 5, 'Q1918': 36, 'Q1193': 13, 'Q103': 5, 'Q1228': 21, 'Q1911': 30, 'Q1759': 23, 'Q1565': 12, 'Q1045': 153, 'Q1477': 98, 'Q1066': 8, 'Q424': 161, 'Q2079': 48, 'Q604': 14, 'Q776': 16, 'Q1088': 13, 'Q795': 11, 'Q1427': 29, 'Q1446': 33, 'Q1821': 5, 'Q901': 20, 'Q2096': 24, 'Q723': 13, 'Q2026': 13, 'Q1890': 14, 'Q1896': 17, 'Q207': 61, 'Q1171': 18, 'Q297': 57, 'Q2091': 8, 'Q1115': 13, 'Q1330': 18, 'Q298': 164, 'Q429': 5, 'Q411': 13, 'Q2125': 30, 'Q1469': 21, 'Q1748': 29, 'Q1161': 4, 'Q454': 5, 'Q585': 44, 'Q55': 110, 'Q1591': 6, 'Q233': 163, 'Q700': 5, 'Q849': 32, 'Q912': 159, 'Q1071': 107, 'Q506': 8, 'Q463': 17, 'Q220': 67, 'Q1859': 8, 'Q163': 10, 'Q465': 4, 'Q1448': 2, 'Q2073': 22, 'Q1691': 10, 'Q1256': 19, 'Q51': 25, 'Q1866': 16, 'Q866': 12, 'Q501': 45, 'Q210': 6, 'Q1712': 10, 'Q2311': 23, 'Q1431': 7, 'Q1537': 31, 'Q2063': 12, 'Q1693': 12, 'Q1826': 18, 'Q1319': 11, 'Q1009': 160, 'Q1789': 13, 'Q1339': 76, 'Q2174': 30, 'Q1530': 14, 'Q83': 49, 'Q1934': 31, 'Q155': 272, 'Q166': 21, 'Q807': 54, 'Q1093': 14, 'Q2017': 6, 'Q732': 5, 'Q816': 31, 'Q1818': 7, 'Q1348': 31, 'Q1029': 157, 'Q990': 13, 'Q481': 1, 'Q2052': 10, 'Q2232': 7, 'Q1555': 18, 'Q863': 51, 'Q2229': 8, 'Q922': 11, 'Q326': 25, 'Q2059': 7, 'Q1611': 7, 'Q1092': 11, 'Q592': 7, 'Q1083': 21, 'Q1173': 21, 'Q656': 99, 'Q747': 28, 'Q926': 37, 'Q1124': 55, 'Q2271': 12, 'Q23': 62, 'Q606': 13, 'Q1098': 18, 'Q2175': 15, 'Q819': 158, 'Q1489': 43, 'Q1452': 21, 'Q394': 10, 'Q1623': 15, 'Q1562': 8, 'Q102': 3, 'Q1719': 12, 'Q1707': 21, 'Q2148': 4, 'Q1057': 12, 'Q1459': 22, 'Q75': 28, 'Q1283': 13, 'Q1058': 23, 'Q1977': 12, 'Q1284': 19, 'Q148': 153, 'Q99': 52, 'Q1490': 72, 'Q1213': 2, 'Q887': 43, 'Q1940': 28, 'Q1810': 5, 'Q1749': 29, 'Q2273': 9, 'Q2272': 19, 'Q801': 141, 'Q328': 33, 'Q2217': 7, 'Q1487': 8, 'Q907': 14, 'Q2008': 8, 'Q42': 83, 'Q1015': 17, 'Q414': 223, 'Q1404': 16, 'Q2131': 22, 'Q2077': 5, 'Q368': 31, 'Q2049': 5, 'Q1325': 30, 'Q1080': 1, 'Q898': 52, 'Q688': 31, 'Q2238': 9, 'Q556': 37, 'Q497': 12, 'Q1885': 26, 'Q684': 18, 'Q1646': 35, 'Q286': 8, 'Q1711': 44, 'Q2261': 9, 'Q447': 15, 'Q2255': 9, 'Q1149': 43, 'Q1468': 20, 'Q144': 44, 'Q433': 3, 'Q2104': 16, 'Q1204': 33, 'Q1673': 14, 'Q1842': 23, 'Q2105': 44, 'Q1416': 23, 'Q2100': 57, 'Q2013': 32, 'Q1121': 15, 'Q278': 5, 'Q1990': 3, 'Q2003': 33, 'Q1795': 3, 'Q2294': 11, 'Q2239': 13}\n"
     ]
    }
   ],
   "source": [
    "def score_item(item):\n",
    "    qualifiers=count_qualifers(item['claims'])\n",
    "    references=count_references(item['claims'])\n",
    "    aliases=alias(item)\n",
    "    return len(qualifiers + references + aliases)\n",
    "\n",
    "result={d['id']:score_item(d) for d in data if d['type']=='item'}\n",
    "print(result)"
   ]
  },
  {
   "cell_type": "code",
   "execution_count": null,
   "metadata": {
    "collapsed": true
   },
   "outputs": [],
   "source": [
    "#levenshtein distance"
   ]
  },
  {
   "cell_type": "code",
   "execution_count": null,
   "metadata": {
    "collapsed": true
   },
   "outputs": [],
   "source": [
    "#import bz2\n",
    "\n",
    "#bz_file = bz2.BZ2File(\"latest-all.json.bz2\")\n",
    "#line_list = bz_file.readlines()"
   ]
  },
  {
   "cell_type": "code",
   "execution_count": null,
   "metadata": {
    "collapsed": true
   },
   "outputs": [],
   "source": [
    "#len(line_list)"
   ]
  },
  {
   "cell_type": "code",
   "execution_count": null,
   "metadata": {
    "collapsed": true
   },
   "outputs": [],
   "source": []
  }
 ],
 "metadata": {
  "kernelspec": {
   "display_name": "Python 3",
   "language": "python",
   "name": "python3"
  },
  "language_info": {
   "codemirror_mode": {
    "name": "ipython",
    "version": 3
   },
   "file_extension": ".py",
   "mimetype": "text/x-python",
   "name": "python",
   "nbconvert_exporter": "python",
   "pygments_lexer": "ipython3",
   "version": "3.5.0"
  }
 },
 "nbformat": 4,
 "nbformat_minor": 0
}
