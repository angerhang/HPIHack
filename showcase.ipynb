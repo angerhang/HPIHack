{
 "cells": [
  {
   "cell_type": "code",
   "execution_count": 9,
   "metadata": {
    "collapsed": false
   },
   "outputs": [
    {
     "name": "stdout",
     "output_type": "stream",
     "text": [
      "type\n",
      "claims\n",
      "sitelinks\n",
      "labels\n",
      "descriptions\n",
      "aliases\n",
      "id\n",
      "{'zh': [{'value': '亞當斯', 'language': 'zh'}], 'als': [{'value': 'Douglas Noel Adams', 'language': 'als'}], 'cs': [{'value': 'Douglas Noël Adams', 'language': 'cs'}, {'value': 'Douglas Noel Adams', 'language': 'cs'}], 'ja': [{'value': 'ダグラス・アダムス', 'language': 'ja'}], 'nl': [{'value': 'Douglas Noel Adams', 'language': 'nl'}, {'value': 'Douglas Noël Adams', 'language': 'nl'}], 'fr': [{'value': 'Douglas Noel Adams', 'language': 'fr'}, {'value': 'Douglas Noël Adams', 'language': 'fr'}], 'es': [{'value': 'Douglas Noel Adams', 'language': 'es'}, {'value': 'Douglas Noël Adams', 'language': 'es'}], 'nb': [{'value': 'Douglas Noël Adams', 'language': 'nb'}], 'hy': [{'value': 'Ադամս, Դուգլաս', 'language': 'hy'}], 'el': [{'value': 'Ντάγκλας Νόελ Άνταμς', 'language': 'el'}], 'it': [{'value': 'Douglas Noel Adams', 'language': 'it'}], 'pt-br': [{'value': 'Douglas Noël Adams', 'language': 'pt-br'}, {'value': 'Douglas Noel Adams', 'language': 'pt-br'}], 'de': [{'value': 'Douglas Noël Adams', 'language': 'de'}, {'value': 'Douglas Noel Adams', 'language': 'de'}], 'ru': [{'value': 'Адамс, Дуглас', 'language': 'ru'}], 'pt': [{'value': 'Douglas Noël Adams', 'language': 'pt'}, {'value': 'Douglas Noel Adams', 'language': 'pt'}], 'en': [{'value': 'Douglas Noël Adams', 'language': 'en'}, {'value': 'Douglas Noel Adams', 'language': 'en'}], 'be-tarask': [{'value': 'Дуглас Адамс', 'language': 'be-tarask'}]}\n"
     ]
    },
    {
     "data": {
      "text/plain": [
       "14"
      ]
     },
     "execution_count": 9,
     "metadata": {},
     "output_type": "execute_result"
    }
   ],
   "source": [
    "import json\n",
    "with open('latest-1000.json') as data_file:\n",
    "    data=json.load(data_file)\n",
    "\n",
    "for key in data[0]:\n",
    "    print(key)\n",
    "#for i in range(900):\n",
    "#    print(data[i]['type'])\n",
    "\n",
    "    \n",
    "    \n",
    "print(data[14]['aliases'])\n",
    "\n",
    "list((map(lambda i: i['id'],data))).index('Q42')"
   ]
  },
  {
   "cell_type": "code",
   "execution_count": 10,
   "metadata": {
    "collapsed": false
   },
   "outputs": [],
   "source": [
    "def description_language(item):\n",
    "    return len(item['descriptions'])\n",
    "    "
   ]
  },
  {
   "cell_type": "code",
   "execution_count": 11,
   "metadata": {
    "collapsed": false
   },
   "outputs": [
    {
     "name": "stdout",
     "output_type": "stream",
     "text": [
      "59\n",
      "59\n",
      "164\n"
     ]
    },
    {
     "data": {
      "text/plain": [
       "'Q1'"
      ]
     },
     "execution_count": 11,
     "metadata": {},
     "output_type": "execute_result"
    }
   ],
   "source": [
    "print(description_language(data[0]))\n",
    "print(len(data[0]['descriptions']))\n",
    "print(len(data[0]['labels']))\n",
    "data[0]['id']"
   ]
  },
  {
   "cell_type": "code",
   "execution_count": 24,
   "metadata": {
    "collapsed": false
   },
   "outputs": [],
   "source": [
    "def non_wiki_ref(claim):\n",
    "    wikipedia=[52,328,48183]\n",
    "    try:\n",
    "        for i in range(len(claim ['references'])):\n",
    "        \n",
    "            if claim ['references'][i]['snaks']['P143'][0]['datavalue']['value']['numeric-id'] not in wikipedia:\n",
    "                return True\n",
    "            else:\n",
    "                return False\n",
    "            break\n",
    "    except TypeError:\n",
    "        pass\n",
    "    return False\n",
    "        \n",
    "#print(data[14]['claims']['P21'][0]['references'][0].keys())\n",
    "#print(data[14]['claims']['P21'][0]['references'])\n",
    "#print(data[0]['id'])\n",
    "#non_wiki_ref(data[0]['claims']['P460'][0])\n",
    "#print(data[1]['claims']['P227'][0]['references'][0]['snaks']['P143'][0] ['datavalue']['value']['numeric-id'])\n",
    "#non_wiki_ref(data_humans[11]['claims']['P21'][0]) "
   ]
  },
  {
   "cell_type": "code",
   "execution_count": 17,
   "metadata": {
    "collapsed": true
   },
   "outputs": [],
   "source": [
    "def count_sitelinks(item):\n",
    "    return len(item['sitelinks'])\n",
    "    "
   ]
  },
  {
   "cell_type": "code",
   "execution_count": null,
   "metadata": {
    "collapsed": false
   },
   "outputs": [],
   "source": []
  },
  {
   "cell_type": "code",
   "execution_count": 18,
   "metadata": {
    "collapsed": false
   },
   "outputs": [],
   "source": [
    "def count_references(claims):\n",
    "    property_list=[]\n",
    "    for p in claims:\n",
    "        for i in claims[p]:\n",
    "            if 'references' in i:\n",
    "                if non_wiki_ref(claims[p])==True:\n",
    "                    property_list.append(p)\n",
    "    return property_list \n"
   ]
  },
  {
   "cell_type": "code",
   "execution_count": 19,
   "metadata": {
    "collapsed": false
   },
   "outputs": [],
   "source": [
    "def count_qualifiers(claims):\n",
    "    l=[]\n",
    "    for p in claims:     \n",
    "        for i in claims[p]:\n",
    "            if 'qualifiers' in i:\n",
    "                l.append(p)\n",
    "    return l\n",
    "#count_qualifers(data[14]['claims']) \n",
    "#set(count_qualifers(data[14]['claims'])).intersection(count_references(data[14]['claims']))"
   ]
  },
  {
   "cell_type": "code",
   "execution_count": 20,
   "metadata": {
    "collapsed": false
   },
   "outputs": [],
   "source": [
    "def alias(data):\n",
    "    return list(data['aliases'].keys())"
   ]
  },
  {
   "cell_type": "code",
   "execution_count": 23,
   "metadata": {
    "collapsed": false
   },
   "outputs": [
    {
     "name": "stdout",
     "output_type": "stream",
     "text": [
      "{'Q1868': 0.16091954022988506, 'Q1224': 0.25914315569487983, 'Q1526': 0.11494252873563218, 'Q1918': 0.2852664576802508, 'Q1938': 0.18808777429467083, 'Q1940': 0.1765935214211076, 'Q1956': 0.13270637408568442, 'Q475': 0.13897596656217345, 'Q1319': 0.10135841170323928, 'Q368': 0.29989550679205856, 'Q1056': 0.10553814002089863, 'Q997': 0.29571577847439917, 'Q1257': 0.2361546499477534, 'Q1789': 0.1044932079414838, 'Q1802': 0.08568443051201671, 'Q1911': 0.2225705329153605, 'Q747': 0.1891327063740857, 'Q2006': 0.0741901776384535, 'Q207': 0.652037617554859, 'Q1646': 0.19644723092998956, 'Q1878': 0.06896551724137931, 'Q2185': 0.27377220480668757, 'Q1381': 0.07628004179728318, 'Q2153': 0.17345872518286312, 'Q1254': 0.38453500522466033, 'Q2129': 0.13897596656217345, 'Q1398': 0.5015673981191222, 'Q1812': 0.16927899686520376, 'Q909': 0.5203761755485893, 'Q1149': 0.3719958202716823, 'Q1500': 0.20585161964472307, 'Q1320': 0.10658307210031347, 'Q297': 0.4660397074190178, 'Q926': 0.3887147335423198, 'Q1712': 0.07001044932079414, 'Q905': 0.47544409613375127, 'Q2125': 0.24869383490073146, 'Q1528': 0.12852664576802508, 'Q555': 0.1765935214211076, 'Q2104': 0.13688610240334378, 'Q1738': 0.11076280041797283, 'Q2327': 0.08045977011494253, 'Q501': 0.41170323928944613, 'Q1151': 0.28735632183908044, 'Q633': 0.754440961337513, 'Q1691': 0.06687565308254964, 'Q1228': 0.15569487983281086, 'Q1330': 0.11703239289446185, 'Q1885': 0.15882967607105536, 'Q849': 0.2507836990595611, 'Q1962': 0.11912225705329153, 'Q946': 0.7816091954022988, 'Q1339': 0.6792058516196448, 'Q1405': 0.5360501567398118, 'Q1427': 0.22988505747126436, 'Q1638': 0.10762800417972833, 'Q1446': 0.24869383490073146, 'Q1317': 0.34691745036572624, 'Q1503': 0.2413793103448276, 'Q1421': 0.2716823406478579, 'Q1511': 0.477533960292581, 'Q1934': 0.18495297805642633, 'Q377': 0.2946708463949843, 'Q1928': 0.2716823406478579, 'Q1058': 0.33646812957157785, 'Q1925': 0.19644723092998956, 'Q530': 0.15464994775339602, 'Q1839': 0.2716823406478579, 'Q1672': 0.07001044932079414, 'Q1464': 0.22048066875653083, 'Q1124': 0.5203761755485893, 'Q920': 0.2089864158829676, 'Q1755': 0.08881922675026123, 'Q1488': 0.11180773249738767, 'Q1939': 0.3510971786833856, 'Q23': 0.6948798328108673, 'Q1267': 0.2288401253918495, 'Q2105': 0.3166144200626959, 'Q937': 1.0, 'Q1747': 0.07314524555903866, 'Q873': 0.7053291536050157, 'Q859': 0.5339602925809822, 'Q1804': 0.14211076280041796, 'Q2190': 0.13584117032392895, 'Q1835': 0.42424242424242425, 'Q1463': 0.25705329153605017, 'Q619': 0.4827586206896552, 'Q1235': 0.18495297805642633, 'Q1325': 0.23510971786833856, 'Q1936': 0.3218390804597701, 'Q326': 0.1943573667711599, 'Q1681': 0.10658307210031347, 'Q1253': 0.3343782654127482, 'Q1753': 0.08568443051201671, 'Q42': 0.7126436781609196, 'Q853': 0.2392894461859979, 'Q1416': 0.19958202716823406, 'Q635': 0.3113897596656217, 'Q1817': 0.1703239289446186, 'Q815': 0.10344827586206896, 'Q1276': 0.49738766980146293}\n"
     ]
    }
   ],
   "source": [
    "import operator\n",
    "def score_item(item,qualifiers_weigth=1,references_weigth=1,aliases_weight=1,site_links_weight=0.1,descrip_lang_weights=0.5):\n",
    "    qualifiers=count_qualifiers(item['claims'])\n",
    "    references=count_references(item['claims'])\n",
    "    aliases=alias(item)\n",
    "    descrip_lang=description_language(item)\n",
    "    site_links=count_sitelinks(item)\n",
    "    \n",
    "    return sum([len(qualifiers)*qualifiers_weigth, \n",
    "            len(references)*references_weigth,\n",
    "            len(aliases)*aliases_weight,\n",
    "            site_links*site_links_weight,\n",
    "            descrip_lang*descrip_lang_weights])\n",
    "\n",
    "def score_dataset(data):\n",
    "    result={d['id']:score_item(d) for d in data if d['type']=='item'}\n",
    "    max_score = max(result[k] for k in result)\n",
    "    return {k: result[k]/max_score for k in result}\n",
    "\n",
    "normalized_result = score_dataset(data)\n",
    "\n",
    "data_humans=[]\n",
    "for d in range(len(data)):\n",
    "    HUMAN=5\n",
    "    for c in list(data[d]['claims'].keys()):\n",
    "        if (c=='P31'):\n",
    "            number=data[d]['claims']['P31'][0]['mainsnak']['datavalue']['value']['numeric-id']\n",
    "            if (number==HUMAN):\n",
    "                data_humans.append(data[d])\n",
    "non_humans = [d for d in data if d not in data_humans]  \n",
    "print(score_dataset(data_humans))\n",
    "\n",
    "sorted_ranking = sorted(normalized_result.items(), reverse=True, key=operator.itemgetter(1))\n",
    "#print(sorted_ranking)"
   ]
  },
  {
   "cell_type": "code",
   "execution_count": 22,
   "metadata": {
    "collapsed": false
   },
   "outputs": [],
   "source": [
    "non_human_score = score_dataset(non_humans)\n",
    "human_score = score_dataset(data_humans)\n",
    "\n",
    "    \n",
    "import csv\n",
    "def ranking_to_csv(filename, ranking):\n",
    "    with open(filename, \"w\") as f:\n",
    "        w = csv.writer(f)\n",
    "        for item_id in ranking:\n",
    "            w.writerow([item_id, ranking[item_id]])\n",
    "ranking_to_csv('non_humans.csv', non_human_score)\n",
    "ranking_to_csv('humans.csv', human_score)"
   ]
  },
  {
   "cell_type": "markdown",
   "metadata": {
    "collapsed": true
   },
   "source": [
    "{'rank': 'normal', 'references': [{'snaks-order': ['P248', 'P214', 'P813'], 'hash': '050ec907ff2d96e82eddea6ecfc54f12503b9f4c', 'snaks': {'P248': [{'datatype': 'wikibase-item', 'property': 'P248', 'snaktype': 'value', 'datavalue': {'type': 'wikibase-entityid', 'value': {'entity-type': 'item', 'numeric-id': 54919}}}], 'P813': [{'datatype': 'time', 'property': 'P813', 'snaktype': 'value', 'datavalue': {'type': 'time', 'value': {'timezone': 0, 'after': 0, 'time': '+2013-12-07T00:00:00Z', 'calendarmodel': 'http://www.wikidata.org/entity/Q1985727', 'before': 0, 'precision': 11}}}], 'P214': [{'datatype': 'external-id', 'property': 'P214', 'snaktype': 'value', 'datavalue': {'type': 'string', 'value': '113230702'}}]}}, {'snaks-order': ['P248', 'P813', 'P854'], 'hash': '84bf485417f064cf273f05ecbda447612eec7314', 'snaks': {'P248': [{'datatype': 'wikibase-item', 'property': 'P248', 'snaktype': 'value', 'datavalue': {'type': 'wikibase-entityid', 'value': {'entity-type': 'item', 'numeric-id': 20666306}}}], 'P854': [{'datatype': 'url', 'property': 'P854', 'snaktype': 'value', 'datavalue': {'type': 'string', 'value': 'http://data.bnf.fr/ark:/12148/cb11888092r'}}], 'P813': [{'datatype': 'time', 'property': 'P813', 'snaktype': 'value', 'datavalue': {'type': 'time', 'value': {'timezone': 0, 'after': 0, 'time': '+2015-10-10T00:00:00Z', 'calendarmodel': 'http://www.wikidata.org/entity/Q1985727', 'before': 0, 'precision': 11}}}]}}], 'type': 'statement', 'id': 'Q42$F078E5B3-F9A8-480E-B7AC-D97778CBBEF9', 'mainsnak': {'datatype': 'wikibase-item', 'property': 'P31', 'snaktype': 'value', 'datavalue': {'type': 'wikibase-entityid', 'value': {'entity-type': 'item', 'numeric-id': 5}}}}"
   ]
  },
  {
   "cell_type": "code",
   "execution_count": null,
   "metadata": {
    "collapsed": true
   },
   "outputs": [],
   "source": [
    "#import bz2\n",
    "\n",
    "#bz_file = bz2.BZ2File(\"latest-all.json.bz2\")\n",
    "#line_list = bz_file.readlines()"
   ]
  },
  {
   "cell_type": "code",
   "execution_count": 142,
   "metadata": {
    "collapsed": false
   },
   "outputs": [
    {
     "data": {
      "text/plain": [
       "dict_keys(['rank', 'type', 'id', 'mainsnak'])"
      ]
     },
     "execution_count": 142,
     "metadata": {},
     "output_type": "execute_result"
    }
   ],
   "source": [
    "data[0]['claims'] ['P349'] [0].keys()"
   ]
  },
  {
   "cell_type": "code",
   "execution_count": 139,
   "metadata": {
    "collapsed": false
   },
   "outputs": [
    {
     "name": "stdout",
     "output_type": "stream",
     "text": [
      "[{'snaks-order': ['P143'], 'hash': 'a51d6594fee36c7452eaed2db35a4833613a7078', 'snaks': {'P143': [{'datatype': 'wikibase-item', 'property': 'P143', 'snaktype': 'value', 'datavalue': {'type': 'wikibase-entityid', 'value': {'entity-type': 'item', 'numeric-id': 54919}}}]}}, {'snaks-order': ['P248', 'P813'], 'hash': '298b51a5d4075225a5c70e053aefbf566adc9c26', 'snaks': {'P248': [{'datatype': 'wikibase-item', 'property': 'P248', 'snaktype': 'value', 'datavalue': {'type': 'wikibase-entityid', 'value': {'entity-type': 'item', 'numeric-id': 36578}}}], 'P813': [{'datatype': 'time', 'property': 'P813', 'snaktype': 'value', 'datavalue': {'type': 'time', 'value': {'timezone': 0, 'after': 0, 'time': '+2014-04-09T00:00:00Z', 'calendarmodel': 'http://www.wikidata.org/entity/Q1985727', 'before': 0, 'precision': 11}}}]}}, {'snaks-order': ['P248', 'P813', 'P854'], 'hash': '0e15bcb7e76e9a49d42526f6ac332f9986429989', 'snaks': {'P248': [{'datatype': 'wikibase-item', 'property': 'P248', 'snaktype': 'value', 'datavalue': {'type': 'wikibase-entityid', 'value': {'entity-type': 'item', 'numeric-id': 20666306}}}], 'P854': [{'datatype': 'url', 'property': 'P854', 'snaktype': 'value', 'datavalue': {'type': 'string', 'value': 'http://data.bnf.fr/ark:/12148/cb118976048'}}], 'P813': [{'datatype': 'time', 'property': 'P813', 'snaktype': 'value', 'datavalue': {'type': 'time', 'value': {'timezone': 0, 'after': 0, 'time': '+2015-10-10T00:00:00Z', 'calendarmodel': 'http://www.wikidata.org/entity/Q1985727', 'before': 0, 'precision': 11}}}]}}]\n"
     ]
    },
    {
     "ename": "KeyError",
     "evalue": "'property'",
     "output_type": "error",
     "traceback": [
      "\u001b[1;31m---------------------------------------------------------------------------\u001b[0m",
      "\u001b[1;31mKeyError\u001b[0m                                  Traceback (most recent call last)",
      "\u001b[1;32m<ipython-input-139-524836567d0e>\u001b[0m in \u001b[0;36m<module>\u001b[1;34m()\u001b[0m\n\u001b[0;32m      1\u001b[0m \u001b[0mprint\u001b[0m\u001b[1;33m(\u001b[0m\u001b[0mdata_humans\u001b[0m\u001b[1;33m[\u001b[0m\u001b[1;36m11\u001b[0m\u001b[1;33m]\u001b[0m\u001b[1;33m[\u001b[0m\u001b[1;34m'claims'\u001b[0m\u001b[1;33m]\u001b[0m\u001b[1;33m[\u001b[0m\u001b[1;34m'P21'\u001b[0m\u001b[1;33m]\u001b[0m\u001b[1;33m[\u001b[0m\u001b[1;36m0\u001b[0m\u001b[1;33m]\u001b[0m\u001b[1;33m[\u001b[0m\u001b[1;34m'references'\u001b[0m\u001b[1;33m]\u001b[0m\u001b[1;33m)\u001b[0m\u001b[1;33m\u001b[0m\u001b[0m\n\u001b[1;32m----> 2\u001b[1;33m \u001b[0mnon_wiki_ref\u001b[0m\u001b[1;33m(\u001b[0m\u001b[0mdata_humans\u001b[0m\u001b[1;33m[\u001b[0m\u001b[1;36m11\u001b[0m\u001b[1;33m]\u001b[0m\u001b[1;33m[\u001b[0m\u001b[1;34m'claims'\u001b[0m\u001b[1;33m]\u001b[0m\u001b[1;33m[\u001b[0m\u001b[1;34m'P21'\u001b[0m\u001b[1;33m]\u001b[0m\u001b[1;33m[\u001b[0m\u001b[1;36m0\u001b[0m\u001b[1;33m]\u001b[0m\u001b[1;33m)\u001b[0m\u001b[1;33m\u001b[0m\u001b[0m\n\u001b[0m",
      "\u001b[1;32m<ipython-input-122-43a84fce01e4>\u001b[0m in \u001b[0;36mnon_wiki_ref\u001b[1;34m(claim)\u001b[0m\n\u001b[0;32m      3\u001b[0m     \u001b[0mwikipedia\u001b[0m\u001b[1;33m=\u001b[0m\u001b[1;33m[\u001b[0m\u001b[1;34m'Q52'\u001b[0m\u001b[1;33m,\u001b[0m\u001b[1;34m'Q328'\u001b[0m\u001b[1;33m,\u001b[0m\u001b[1;34m'Q48183'\u001b[0m\u001b[1;33m]\u001b[0m\u001b[1;33m\u001b[0m\u001b[0m\n\u001b[0;32m      4\u001b[0m     \u001b[1;32mfor\u001b[0m \u001b[0mi\u001b[0m \u001b[1;32min\u001b[0m \u001b[0mrange\u001b[0m\u001b[1;33m(\u001b[0m\u001b[0mlen\u001b[0m\u001b[1;33m(\u001b[0m\u001b[0mclaim\u001b[0m \u001b[1;33m[\u001b[0m\u001b[1;34m'references'\u001b[0m\u001b[1;33m]\u001b[0m\u001b[1;33m)\u001b[0m\u001b[1;33m)\u001b[0m\u001b[1;33m:\u001b[0m\u001b[1;33m\u001b[0m\u001b[0m\n\u001b[1;32m----> 5\u001b[1;33m         \u001b[1;32mif\u001b[0m \u001b[0mclaim\u001b[0m \u001b[1;33m[\u001b[0m\u001b[1;34m'references'\u001b[0m\u001b[1;33m]\u001b[0m \u001b[1;33m[\u001b[0m\u001b[0mi\u001b[0m\u001b[1;33m]\u001b[0m \u001b[1;33m[\u001b[0m\u001b[1;34m'property'\u001b[0m\u001b[1;33m]\u001b[0m \u001b[1;32mnot\u001b[0m \u001b[1;32min\u001b[0m \u001b[0mwikipedia\u001b[0m\u001b[1;33m:\u001b[0m\u001b[1;33m\u001b[0m\u001b[0m\n\u001b[0m\u001b[0;32m      6\u001b[0m             \u001b[1;32mreturn\u001b[0m \u001b[1;32mTrue\u001b[0m\u001b[1;33m\u001b[0m\u001b[0m\n",
      "\u001b[1;31mKeyError\u001b[0m: 'property'"
     ]
    }
   ],
   "source": []
  }
 ],
 "metadata": {
  "kernelspec": {
   "display_name": "Python 3",
   "language": "python",
   "name": "python3"
  },
  "language_info": {
   "codemirror_mode": {
    "name": "ipython",
    "version": 3
   },
   "file_extension": ".py",
   "mimetype": "text/x-python",
   "name": "python",
   "nbconvert_exporter": "python",
   "pygments_lexer": "ipython3",
   "version": "3.5.0"
  }
 },
 "nbformat": 4,
 "nbformat_minor": 0
}
